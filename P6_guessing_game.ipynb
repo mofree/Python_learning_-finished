{
 "cells": [
  {
   "cell_type": "code",
   "execution_count": 1,
   "metadata": {
    "scrolled": true
   },
   "outputs": [
    {
     "name": "stdout",
     "output_type": "stream",
     "text": [
      "Confirm\n"
     ]
    }
   ],
   "source": [
    "num=5\n",
    "print(num) if num!=5 else print('Confirm')#if in one line"
   ]
  },
  {
   "cell_type": "code",
   "execution_count": 2,
   "metadata": {
    "scrolled": true
   },
   "outputs": [
    {
     "name": "stdout",
     "output_type": "stream",
     "text": [
      "Help on method raw_input in module ipykernel.kernelbase:\n",
      "\n",
      "raw_input(prompt='') method of ipykernel.ipkernel.IPythonKernel instance\n",
      "    Forward raw_input to frontends\n",
      "    \n",
      "    Raises\n",
      "    ------\n",
      "    StdinNotImplentedError if active frontend doesn't support stdin.\n",
      "\n"
     ]
    }
   ],
   "source": [
    "help(input)"
   ]
  },
  {
   "cell_type": "code",
   "execution_count": 3,
   "metadata": {
    "scrolled": true
   },
   "outputs": [],
   "source": [
    "if 1==1:\n",
    "    pass\n",
    "elif 2==2:\n",
    "    pass"
   ]
  },
  {
   "cell_type": "code",
   "execution_count": 4,
   "metadata": {},
   "outputs": [
    {
     "data": {
      "text/plain": [
       "1593312046.9909208"
      ]
     },
     "execution_count": 4,
     "metadata": {},
     "output_type": "execute_result"
    }
   ],
   "source": [
    "import time\n",
    "\n",
    "time.time()"
   ]
  },
  {
   "cell_type": "code",
   "execution_count": 5,
   "metadata": {},
   "outputs": [
    {
     "name": "stdout",
     "output_type": "stream",
     "text": [
      "Help on built-in function time in module time:\n",
      "\n",
      "time(...)\n",
      "    time() -> floating point number\n",
      "    \n",
      "    Return the current time in seconds since the Epoch.\n",
      "    Fractions of a second may be present if the system clock provides them.\n",
      "\n"
     ]
    }
   ],
   "source": [
    "help(time.time)"
   ]
  },
  {
   "cell_type": "code",
   "execution_count": 6,
   "metadata": {},
   "outputs": [
    {
     "name": "stdout",
     "output_type": "stream",
     "text": [
      "Help on built-in function hash in module builtins:\n",
      "\n",
      "hash(obj, /)\n",
      "    Return the hash value for the given object.\n",
      "    \n",
      "    Two objects that compare equal must also have the same hash value, but the\n",
      "    reverse is not necessarily true.\n",
      "\n"
     ]
    }
   ],
   "source": [
    "help(hash)"
   ]
  },
  {
   "cell_type": "code",
   "execution_count": 7,
   "metadata": {},
   "outputs": [
    {
     "data": {
      "text/plain": [
       "-732871910450458638"
      ]
     },
     "execution_count": 7,
     "metadata": {},
     "output_type": "execute_result"
    }
   ],
   "source": [
    "hash('111')"
   ]
  },
  {
   "cell_type": "code",
   "execution_count": 8,
   "metadata": {},
   "outputs": [
    {
     "name": "stdout",
     "output_type": "stream",
     "text": [
      "请猜一个1-10之间的数：5\n",
      "成了！\n"
     ]
    }
   ],
   "source": [
    "#自己初体验\n",
    "import random\n",
    "\n",
    "Target=random.randint(1,10)\n",
    "Guess=int(input('请猜一个1-10之间的数：'))\n",
    "while Guess!=Target:\n",
    "    if Guess<Target:\n",
    "        Guess=int(input('小了，再猜：'))\n",
    "    else:\n",
    "        Guess=int(input('大了，再猜：'))\n",
    "print('成了！')"
   ]
  },
  {
   "cell_type": "code",
   "execution_count": 9,
   "metadata": {},
   "outputs": [
    {
     "name": "stdout",
     "output_type": "stream",
     "text": [
      "请猜一个1-10之间的数：5\n",
      "大了，再猜：6\n",
      "有病啊，在1和5之间的数，重来：3\n",
      "大了，再猜：2\n",
      "大了，再猜：1\n",
      "成了！\n"
     ]
    }
   ],
   "source": [
    "#自己增加功能\n",
    "import random\n",
    "\n",
    "Target = random.randint(1, 10)\n",
    "Min = 1\n",
    "Max = 10\n",
    "Guess = int(input('请猜一个1-10之间的数：'))\n",
    "while Guess != Target:\n",
    "    if Guess >= Min and Guess <= Max:\n",
    "        if Guess < Target:\n",
    "            Min = Guess\n",
    "            Guess = int(input('小了，再猜：'))\n",
    "        else:\n",
    "            Max = Guess\n",
    "            Guess = int(input('大了，再猜：'))\n",
    "    else:\n",
    "        Guess = int(input('有病啊，在{}和{}之间的数，重来：'.format(Min, Max)))\n",
    "print('成了！')"
   ]
  },
  {
   "cell_type": "code",
   "execution_count": 10,
   "metadata": {},
   "outputs": [
    {
     "name": "stdout",
     "output_type": "stream",
     "text": [
      "请猜一个1-10之间的数：5\n",
      "大了，再猜：3\n",
      "成了！\n"
     ]
    }
   ],
   "source": [
    "#老师的写法\n",
    "import random\n",
    "\n",
    "target = random.randint(1,10)\n",
    "prompt = '请猜一个1-10之间的数：'\n",
    "while True:\n",
    "    guess=int(input(prompt))\n",
    "    \n",
    "    if guess < target:\n",
    "        prompt = '小了，再猜：'\n",
    "    elif guess > target:\n",
    "        prompt = '大了，再猜：'\n",
    "    else:\n",
    "        print('成了！')\n",
    "        break"
   ]
  },
  {
   "cell_type": "code",
   "execution_count": 11,
   "metadata": {},
   "outputs": [
    {
     "name": "stdout",
     "output_type": "stream",
     "text": [
      "请猜一个1-100之间的数：50\n",
      "大了，接近了，不超过10，再猜：70\n",
      "有病啊，在40和50之间的数，重来：45\n",
      "成了！\n"
     ]
    }
   ],
   "source": [
    "#增加功能，并按照老师写法优化代码结构\n",
    "import random\n",
    "\n",
    "target = random.randint(1,100)\n",
    "near = 10 #10以内（含10）表示接近了\n",
    "min_guess = 1\n",
    "max_guess = 100\n",
    "prompt = '请猜一个1-100之间的数：'\n",
    "#while True: # 始终循环\n",
    "for i in range(100): # 最多循环100次\n",
    "    guess=int(input(prompt))\n",
    "    \n",
    "    if guess < min_guess or guess > max_guess: #超限\n",
    "        prompt = '有病啊，在{}和{}之间的数，重来：'.format(min_guess, max_guess)\n",
    "    elif guess > target + near:\n",
    "        prompt = '大了，再猜：'\n",
    "        max_guess = guess\n",
    "    elif guess < target - near:\n",
    "        prompt = '小了，再猜：'\n",
    "        min_guess = guess\n",
    "    elif guess > target and guess < target + near:\n",
    "        prompt = '大了，接近了，不超过{}，再猜：'.format(near)\n",
    "        max_guess = guess\n",
    "        min_guess = min_guess if min_guess >= guess - near else guess - near\n",
    "    elif guess < target and guess > target - near:\n",
    "        prompt = '小了，接近了，不超过{}，再猜：'.format(near)\n",
    "        min_guess = guess\n",
    "        max_guess = max_guess if max_guess <= guess + near else guess + near\n",
    "    else:\n",
    "        print('成了！')\n",
    "        break"
   ]
  },
  {
   "cell_type": "code",
   "execution_count": 12,
   "metadata": {},
   "outputs": [
    {
     "data": {
      "text/plain": [
       "0"
      ]
     },
     "execution_count": 12,
     "metadata": {},
     "output_type": "execute_result"
    }
   ],
   "source": [
    "#caution: 'can't assign to conditional expression' when use if statement in one line incorrectly\n",
    "a = 1 if False else 0 #caution: else is necessery; 0 rather than a = 0\n",
    "a"
   ]
  },
  {
   "cell_type": "code",
   "execution_count": 13,
   "metadata": {},
   "outputs": [
    {
     "name": "stdout",
     "output_type": "stream",
     "text": [
      "Help on class range in module builtins:\n",
      "\n",
      "class range(object)\n",
      " |  range(stop) -> range object\n",
      " |  range(start, stop[, step]) -> range object\n",
      " |  \n",
      " |  Return an object that produces a sequence of integers from start (inclusive)\n",
      " |  to stop (exclusive) by step.  range(i, j) produces i, i+1, i+2, ..., j-1.\n",
      " |  start defaults to 0, and stop is omitted!  range(4) produces 0, 1, 2, 3.\n",
      " |  These are exactly the valid indices for a list of 4 elements.\n",
      " |  When step is given, it specifies the increment (or decrement).\n",
      " |  \n",
      " |  Methods defined here:\n",
      " |  \n",
      " |  __bool__(self, /)\n",
      " |      self != 0\n",
      " |  \n",
      " |  __contains__(self, key, /)\n",
      " |      Return key in self.\n",
      " |  \n",
      " |  __eq__(self, value, /)\n",
      " |      Return self==value.\n",
      " |  \n",
      " |  __ge__(self, value, /)\n",
      " |      Return self>=value.\n",
      " |  \n",
      " |  __getattribute__(self, name, /)\n",
      " |      Return getattr(self, name).\n",
      " |  \n",
      " |  __getitem__(self, key, /)\n",
      " |      Return self[key].\n",
      " |  \n",
      " |  __gt__(self, value, /)\n",
      " |      Return self>value.\n",
      " |  \n",
      " |  __hash__(self, /)\n",
      " |      Return hash(self).\n",
      " |  \n",
      " |  __iter__(self, /)\n",
      " |      Implement iter(self).\n",
      " |  \n",
      " |  __le__(self, value, /)\n",
      " |      Return self<=value.\n",
      " |  \n",
      " |  __len__(self, /)\n",
      " |      Return len(self).\n",
      " |  \n",
      " |  __lt__(self, value, /)\n",
      " |      Return self<value.\n",
      " |  \n",
      " |  __ne__(self, value, /)\n",
      " |      Return self!=value.\n",
      " |  \n",
      " |  __reduce__(...)\n",
      " |      Helper for pickle.\n",
      " |  \n",
      " |  __repr__(self, /)\n",
      " |      Return repr(self).\n",
      " |  \n",
      " |  __reversed__(...)\n",
      " |      Return a reverse iterator.\n",
      " |  \n",
      " |  count(...)\n",
      " |      rangeobject.count(value) -> integer -- return number of occurrences of value\n",
      " |  \n",
      " |  index(...)\n",
      " |      rangeobject.index(value) -> integer -- return index of value.\n",
      " |      Raise ValueError if the value is not present.\n",
      " |  \n",
      " |  ----------------------------------------------------------------------\n",
      " |  Static methods defined here:\n",
      " |  \n",
      " |  __new__(*args, **kwargs) from builtins.type\n",
      " |      Create and return a new object.  See help(type) for accurate signature.\n",
      " |  \n",
      " |  ----------------------------------------------------------------------\n",
      " |  Data descriptors defined here:\n",
      " |  \n",
      " |  start\n",
      " |  \n",
      " |  step\n",
      " |  \n",
      " |  stop\n",
      "\n"
     ]
    }
   ],
   "source": [
    "help(range)"
   ]
  },
  {
   "cell_type": "code",
   "execution_count": 14,
   "metadata": {},
   "outputs": [
    {
     "name": "stdout",
     "output_type": "stream",
     "text": [
      "0\n",
      "1\n",
      "2\n",
      "3\n",
      "4\n",
      "5\n",
      "6\n",
      "7\n",
      "8\n",
      "9\n",
      "------------------\n",
      "10\n",
      "11\n",
      "12\n",
      "13\n",
      "14\n",
      "15\n",
      "16\n",
      "17\n",
      "18\n",
      "19\n",
      "------------------\n",
      "10\n",
      "12\n",
      "14\n",
      "16\n",
      "18\n"
     ]
    }
   ],
   "source": [
    "for a in range(10): #caution: [0,10)\n",
    "    print(a)\n",
    "print('------------------')\n",
    "for a in range(10,20): #caution: [10,20)\n",
    "    print(a)\n",
    "print('------------------')\n",
    "for a in range(10,20,2):\n",
    "    print(a)"
   ]
  },
  {
   "cell_type": "code",
   "execution_count": 15,
   "metadata": {},
   "outputs": [
    {
     "name": "stdout",
     "output_type": "stream",
     "text": [
      "请猜一个小写字母：g\n",
      "向后猜：p\n",
      "向前猜：z\n",
      "向前猜：l\n",
      "向后猜：n\n",
      "成了！\n"
     ]
    }
   ],
   "source": [
    "#初体验，笨方法，没有使用字符转换\n",
    "import random\n",
    "\n",
    "alphabet='abcdefghijklmnopqrstuvwxyz'\n",
    "target_num = random.randint(0,25)\n",
    "prompt = '请猜一个小写字母：'\n",
    "while True:\n",
    "    guess = input(prompt)\n",
    "    for i in range(26):# caution: not 25!\n",
    "        if alphabet[i] == guess:\n",
    "            guess_num = i\n",
    "            break\n",
    "    \n",
    "    if guess_num < target_num:\n",
    "        prompt = '向后猜：'\n",
    "    elif guess_num > target_num:\n",
    "        prompt = '向前猜：'\n",
    "    else:\n",
    "        print('成了！')\n",
    "        break"
   ]
  },
  {
   "cell_type": "code",
   "execution_count": 16,
   "metadata": {},
   "outputs": [
    {
     "name": "stdout",
     "output_type": "stream",
     "text": [
      "a\n",
      "97\n",
      "122\n",
      "65\n"
     ]
    }
   ],
   "source": [
    "print(chr(97))\n",
    "print(ord('a'))\n",
    "print(ord('z'))\n",
    "print(ord('A'))"
   ]
  },
  {
   "cell_type": "code",
   "execution_count": 17,
   "metadata": {},
   "outputs": [
    {
     "name": "stdout",
     "output_type": "stream",
     "text": [
      "请猜一个小写字母：l\n",
      "向后猜：s\n",
      "向前猜：o\n",
      "向后猜：p\n",
      "向后猜：q\n",
      "成了！\n"
     ]
    }
   ],
   "source": [
    "# 优化：比较字母时使用ord比较\n",
    "import random\n",
    "\n",
    "alphabet='abcdefghijklmnopqrstuvwxyz'\n",
    "target = alphabet[random.randint(0,25)]\n",
    "target_ord = ord(target)\n",
    "prompt = '请猜一个小写字母：'\n",
    "while True:\n",
    "    guess = input(prompt)\n",
    "    guess_ord = ord(guess)\n",
    "    \n",
    "    if guess_ord < target_ord:\n",
    "        prompt = '向后猜：'\n",
    "    elif guess_ord > target_ord:\n",
    "        prompt = '向前猜：'\n",
    "    else:\n",
    "        print('成了！')\n",
    "        break"
   ]
  },
  {
   "cell_type": "code",
   "execution_count": 18,
   "metadata": {},
   "outputs": [
    {
     "name": "stdout",
     "output_type": "stream",
     "text": [
      "请猜一个小写字母：A\n",
      "输入非小写字母，重新输入：a\n",
      "向后猜：z\n",
      "向前猜：l\n",
      "向后猜：p\n",
      "向后猜：v\n",
      "向前猜：s\n",
      "向后猜：t\n",
      "向后猜：u\n",
      "成了！\n"
     ]
    }
   ],
   "source": [
    "# 优化：不列出字母表，以ord代表带猜字母范围\n",
    "# 另思路：可以直接比较两个字符串的大小\n",
    "import random\n",
    "\n",
    "target_ord = random.randint(97,122)\n",
    "prompt = '请猜一个小写字母：'\n",
    "while True:\n",
    "    guess_ord = ord(input(prompt))\n",
    "    \n",
    "    if guess_ord < 97 or guess_ord > 122:\n",
    "        prompt = '输入非小写字母，重新输入：'\n",
    "    elif guess_ord < target_ord:\n",
    "        prompt = '向后猜：'\n",
    "    elif guess_ord > target_ord:\n",
    "        prompt = '向前猜：'\n",
    "    else:\n",
    "        print('成了！')\n",
    "        break"
   ]
  }
 ],
 "metadata": {
  "kernelspec": {
   "display_name": "Python 3",
   "language": "python",
   "name": "python3"
  },
  "language_info": {
   "codemirror_mode": {
    "name": "ipython",
    "version": 3
   },
   "file_extension": ".py",
   "mimetype": "text/x-python",
   "name": "python",
   "nbconvert_exporter": "python",
   "pygments_lexer": "ipython3",
   "version": "3.7.6"
  }
 },
 "nbformat": 4,
 "nbformat_minor": 4
}
