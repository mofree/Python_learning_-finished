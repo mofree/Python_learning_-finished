{
 "cells": [
  {
   "cell_type": "code",
   "execution_count": 1,
   "metadata": {},
   "outputs": [
    {
     "name": "stdout",
     "output_type": "stream",
     "text": [
      "Help on built-in function ord in module builtins:\n",
      "\n",
      "ord(c, /)\n",
      "    Return the Unicode code point for a one-character string.\n",
      "\n"
     ]
    }
   ],
   "source": [
    "help(ord)"
   ]
  },
  {
   "cell_type": "code",
   "execution_count": 2,
   "metadata": {},
   "outputs": [
    {
     "name": "stdout",
     "output_type": "stream",
     "text": [
      "65 90 97 122\n",
      "A Z a z\n"
     ]
    }
   ],
   "source": [
    "print(ord('A'),ord('Z'),ord('a'),ord('z'))\n",
    "print(chr(65),chr(90),chr(97),chr(122))"
   ]
  },
  {
   "cell_type": "code",
   "execution_count": 3,
   "metadata": {},
   "outputs": [
    {
     "name": "stdout",
     "output_type": "stream",
     "text": [
      "请输入待加密小写字母语句：abcxyz\n",
      "bcdyza\n"
     ]
    }
   ],
   "source": [
    "#自己初尝试，仅小写字母\n",
    "shift = 1 #正偏移量\n",
    "\n",
    "str_target = input('请输入待加密小写字母语句：')\n",
    "str_len = len(str_target)\n",
    "str_coding = ''\n",
    "\n",
    "for i in range(str_len):\n",
    "    temp = chr(ord(str_target[i]) + shift)\n",
    "    if ord(temp) > 122:\n",
    "        temp = chr((122 + 97 + shift - 1) - ord(str_target[i]))\n",
    "    else:\n",
    "        pass\n",
    "    str_coding = str_coding + temp\n",
    "    \n",
    "print(str_coding)"
   ]
  },
  {
   "cell_type": "code",
   "execution_count": 4,
   "metadata": {},
   "outputs": [
    {
     "name": "stdout",
     "output_type": "stream",
     "text": [
      "Help on built-in function index:\n",
      "\n",
      "index(...) method of builtins.str instance\n",
      "    S.index(sub[, start[, end]]) -> int\n",
      "    \n",
      "    Return the lowest index in S where substring sub is found, \n",
      "    such that sub is contained within S[start:end].  Optional\n",
      "    arguments start and end are interpreted as in slice notation.\n",
      "    \n",
      "    Raises ValueError when the substring is not found.\n",
      "\n"
     ]
    }
   ],
   "source": [
    "a = '123'\n",
    "help(a.index)"
   ]
  },
  {
   "cell_type": "code",
   "execution_count": 5,
   "metadata": {},
   "outputs": [
    {
     "name": "stdout",
     "output_type": "stream",
     "text": [
      "khoor zruog!\n"
     ]
    }
   ],
   "source": [
    "#老师写法，加密\n",
    "alphabet_src = 'abcdefghijklmnopqrstuvwxyz' #source\n",
    "alphabet_tar = 'defghijklmnopqrstuvwxyzabc' #target\n",
    "\n",
    "src_str = 'hello world!'\n",
    "encrypted_str = '' #encrypted decrypted\n",
    "for single_char in src_str:\n",
    "    if single_char in alphabet_src:\n",
    "        encrypted_str = encrypted_str + alphabet_tar[alphabet_src.index(single_char)] #caution: []\n",
    "    else:\n",
    "        encrypted_str = encrypted_str + single_char\n",
    "print(encrypted_str)"
   ]
  },
  {
   "cell_type": "code",
   "execution_count": 6,
   "metadata": {},
   "outputs": [
    {
     "name": "stdout",
     "output_type": "stream",
     "text": [
      "hello world!\n"
     ]
    }
   ],
   "source": [
    "#老师写法，解密\n",
    "alphabet_src = 'abcdefghijklmnopqrstuvwxyz' #source\n",
    "alphabet_tar = 'defghijklmnopqrstuvwxyzabc' #target\n",
    "\n",
    "src_str = 'khoor zruog!'\n",
    "decrypted_str = '' #encrypted decrypted\n",
    "for single_char in src_str:\n",
    "    if single_char in alphabet_tar:\n",
    "        decrypted_str = decrypted_str + alphabet_src[alphabet_tar.index(single_char)] #caution: []\n",
    "    else:\n",
    "        decrypted_str = decrypted_str + single_char\n",
    "print(decrypted_str)"
   ]
  },
  {
   "cell_type": "code",
   "execution_count": 7,
   "metadata": {},
   "outputs": [
    {
     "name": "stdout",
     "output_type": "stream",
     "text": [
      "khoor zruog!\n",
      "hello world!\n",
      "Help on function encryptIt in module __main__:\n",
      "\n",
      "encryptIt(src_str: str) -> str\n",
      "    用于对字符串进行简单替换加密\n",
      "    输入参数：\n",
      "    src_str：原始文本内容\n",
      "    返回结果：加密文本\n",
      "\n",
      "Help on function decryptIt in module __main__:\n",
      "\n",
      "decryptIt(tar_str: str) -> str\n",
      "    用于对字符串进行简单替换解密\n",
      "    输入参数：\n",
      "    tar_str：待解密文本内容\n",
      "    返回结果：解密文本\n",
      "\n"
     ]
    }
   ],
   "source": [
    "#封装函数方式\n",
    "alphabet_src = 'abcdefghijklmnopqrstuvwxyz' #source\n",
    "alphabet_tar = 'defghijklmnopqrstuvwxyzabc' #target\n",
    "\n",
    "def encryptIt(src_str: str) -> str: #str是说明信息，不会强制约束\n",
    "    '''用于对字符串进行简单替换加密\n",
    "    输入参数：\n",
    "    src_str：原始文本内容\n",
    "    返回结果：加密文本\n",
    "    '''\n",
    "    global alphabet_src, alphabet_tar\n",
    "    encrypted_str = '' #encrypted decrypted\n",
    "    for single_char in src_str:\n",
    "        if single_char in alphabet_src:\n",
    "            encrypted_str = encrypted_str + alphabet_tar[alphabet_src.index(single_char)] #caution: []\n",
    "        else:\n",
    "            encrypted_str = encrypted_str + single_char\n",
    "    return encrypted_str\n",
    "\n",
    "def decryptIt(tar_str: str) -> str:\n",
    "    '''用于对字符串进行简单替换解密\n",
    "    输入参数：\n",
    "    tar_str：待解密文本内容\n",
    "    返回结果：解密文本\n",
    "    '''\n",
    "    global alphabet_src, alphabet_tar\n",
    "    decrypted_str = '' #encrypted decrypted\n",
    "    for single_char in tar_str:\n",
    "        if single_char in alphabet_tar:\n",
    "            decrypted_str = decrypted_str + alphabet_src[alphabet_tar.index(single_char)] #caution: []\n",
    "        else:\n",
    "            decrypted_str = decrypted_str + single_char\n",
    "    return decrypted_str\n",
    "\n",
    "assert('abcdefghijklmnopqrstuvwxyz' == decryptIt(encryptIt('abcdefghijklmnopqrstuvwxyz')))#断言\n",
    "\n",
    "#使用函数\n",
    "print(encryptIt('hello world!'))\n",
    "print(decryptIt(encryptIt('hello world!')))\n",
    "help(encryptIt)\n",
    "help(decryptIt)"
   ]
  },
  {
   "cell_type": "code",
   "execution_count": 8,
   "metadata": {},
   "outputs": [
    {
     "name": "stdout",
     "output_type": "stream",
     "text": [
      "2\n",
      "1\n"
     ]
    }
   ],
   "source": [
    "#变量作用域\n",
    "a = 1\n",
    "\n",
    "def mytest():\n",
    "    a = 2\n",
    "    print(a) #如果定义的函数内没有a，则会直接使用全局变量；如果定义的函数内有a，则会先建立一个副本，不改变全局变量的值\n",
    "    \n",
    "mytest()\n",
    "print(a)"
   ]
  },
  {
   "cell_type": "code",
   "execution_count": 9,
   "metadata": {},
   "outputs": [
    {
     "name": "stdout",
     "output_type": "stream",
     "text": [
      "2\n",
      "2\n"
     ]
    }
   ],
   "source": [
    "a = 1\n",
    "\n",
    "def mytest():\n",
    "    global a\n",
    "    a = 2\n",
    "    print(a)\n",
    "    \n",
    "mytest()\n",
    "print(a)"
   ]
  },
  {
   "cell_type": "code",
   "execution_count": 10,
   "metadata": {},
   "outputs": [
    {
     "name": "stdout",
     "output_type": "stream",
     "text": [
      "khoor zruog!\n",
      "hello world!\n",
      "Help on function cryptIt in module __main__:\n",
      "\n",
      "cryptIt(src_str: str, if_decrypt: bool = False) -> str\n",
      "    用于对字符串进行偏移加密/解密\n",
      "    输入参数：\n",
      "    src_str：待处理文本内容\n",
      "    if_decrypt：True表示解密，False表示加密\n",
      "    返回结果：加密/解密文本\n",
      "\n"
     ]
    }
   ],
   "source": [
    "#封装函数，使用index偏移方式\n",
    "alphabet_src = 'abcdefghijklmnopqrstuvwxyz' #source\n",
    "\n",
    "def cryptIt(src_str: str, if_decrypt: bool = False) -> str: #默认值\n",
    "    '''用于对字符串进行偏移加密/解密\n",
    "    输入参数：\n",
    "    src_str：待处理文本内容\n",
    "    if_decrypt：True表示解密，False表示加密\n",
    "    返回结果：加密/解密文本\n",
    "    '''\n",
    "    global alphabet_src\n",
    "    result = ''\n",
    "    for single_char in src_str:\n",
    "        if single_char in alphabet_src:\n",
    "            old_index = alphabet_src.index(single_char)\n",
    "            if if_decrypt == False:\n",
    "                new_index = (old_index + 3) % 26 #偏移量为3\n",
    "            else:\n",
    "                new_index = (old_index - 3) % 26 #注：这里取余得到的数是正数，所以没有问题\n",
    "            result = result + alphabet_src[new_index]\n",
    "        else:\n",
    "            result = result + single_char\n",
    "    return result\n",
    "\n",
    "assert('abcdefghijklmnopqrstuvwxyz' == cryptIt(cryptIt('abcdefghijklmnopqrstuvwxyz', False), True))#断言\n",
    "\n",
    "#调用函数\n",
    "print(cryptIt('hello world!', False))\n",
    "print(cryptIt(cryptIt('hello world!', False), True))\n",
    "help(cryptIt)"
   ]
  }
 ],
 "metadata": {
  "kernelspec": {
   "display_name": "Python 3",
   "language": "python",
   "name": "python3"
  },
  "language_info": {
   "codemirror_mode": {
    "name": "ipython",
    "version": 3
   },
   "file_extension": ".py",
   "mimetype": "text/x-python",
   "name": "python",
   "nbconvert_exporter": "python",
   "pygments_lexer": "ipython3",
   "version": "3.7.6"
  }
 },
 "nbformat": 4,
 "nbformat_minor": 4
}
