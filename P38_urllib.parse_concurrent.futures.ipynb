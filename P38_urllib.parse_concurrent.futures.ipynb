{
 "cells": [
  {
   "cell_type": "markdown",
   "metadata": {},
   "source": [
    "*补充 P36 中 关于豆瓣 tag 的 url 编码*"
   ]
  },
  {
   "cell_type": "code",
   "execution_count": 1,
   "metadata": {
    "scrolled": false
   },
   "outputs": [
    {
     "name": "stdout",
     "output_type": "stream",
     "text": [
      "['小说', '外国文学', '文学', '经典', '中国文学', '随笔', '日本文学', '散文', '村上春树', '诗歌', '童话', '名著', '儿童文学', '古典文学', '余华', '王小波', '杂文', '当代文学', '张爱玲', '外国名著', '钱钟书', '鲁迅', '诗词', '茨威格', '米兰·昆德拉', '杜拉斯', '港台', '漫画', '推理', '绘本', '东野圭吾', '青春', '悬疑', '科幻', '言情', '推理小说', '奇幻', '武侠', '日本漫画', '耽美', '韩寒', '网络小说', '科幻小说', '三毛', '亦舒', '阿加莎·克里斯蒂', '金庸', '安妮宝贝', '穿越', '郭敬明', '轻小说', '魔幻', '青春文学', '几米', 'J.K.罗琳', '幾米', '张小娴', '古龙', '校园', '高木直子', '沧月', '余秋雨', '落落', '历史', '心理学', '哲学', '社会学', '传记', '文化', '艺术', '社会', '政治', '设计', '宗教', '政治学', '建筑', '电影', '数学', '中国历史', '回忆录', '思想', '国学', '人物传记', '艺术史', '人文', '音乐', '绘画', '戏剧', '西方哲学', '近代史', '二战', '军事', '佛教', '考古', '自由主义', '美术', '爱情', '成长', '生活', '旅行', '心理', '女性', '励志', '摄影', '教育', '职场', '美食', '游记', '灵修', '健康', '情感', '人际关系', '两性', '养生', '手工', '家居', '自助游', '经济学', '管理', '经济', '商业', '金融', '投资', '营销', '理财', '创业', '股票', '广告', '企业史', '策划', '科普', '互联网', '科学', '编程', '交互设计', '算法', '用户体验', '科技', 'web', '交互', '通信', 'UE', '神经网络', 'UCD', '程序']\n",
      "['%E5%B0%8F%E8%AF%B4', '%E5%A4%96%E5%9B%BD%E6%96%87%E5%AD%A6', '%E6%96%87%E5%AD%A6', '%E7%BB%8F%E5%85%B8', '%E4%B8%AD%E5%9B%BD%E6%96%87%E5%AD%A6', '%E9%9A%8F%E7%AC%94', '%E6%97%A5%E6%9C%AC%E6%96%87%E5%AD%A6', '%E6%95%A3%E6%96%87', '%E6%9D%91%E4%B8%8A%E6%98%A5%E6%A0%91', '%E8%AF%97%E6%AD%8C', '%E7%AB%A5%E8%AF%9D', '%E5%90%8D%E8%91%97', '%E5%84%BF%E7%AB%A5%E6%96%87%E5%AD%A6', '%E5%8F%A4%E5%85%B8%E6%96%87%E5%AD%A6', '%E4%BD%99%E5%8D%8E', '%E7%8E%8B%E5%B0%8F%E6%B3%A2', '%E6%9D%82%E6%96%87', '%E5%BD%93%E4%BB%A3%E6%96%87%E5%AD%A6', '%E5%BC%A0%E7%88%B1%E7%8E%B2', '%E5%A4%96%E5%9B%BD%E5%90%8D%E8%91%97', '%E9%92%B1%E9%92%9F%E4%B9%A6', '%E9%B2%81%E8%BF%85', '%E8%AF%97%E8%AF%8D', '%E8%8C%A8%E5%A8%81%E6%A0%BC', '%E7%B1%B3%E5%85%B0%C2%B7%E6%98%86%E5%BE%B7%E6%8B%89', '%E6%9D%9C%E6%8B%89%E6%96%AF', '%E6%B8%AF%E5%8F%B0', '%E6%BC%AB%E7%94%BB', '%E6%8E%A8%E7%90%86', '%E7%BB%98%E6%9C%AC', '%E4%B8%9C%E9%87%8E%E5%9C%AD%E5%90%BE', '%E9%9D%92%E6%98%A5', '%E6%82%AC%E7%96%91', '%E7%A7%91%E5%B9%BB', '%E8%A8%80%E6%83%85', '%E6%8E%A8%E7%90%86%E5%B0%8F%E8%AF%B4', '%E5%A5%87%E5%B9%BB', '%E6%AD%A6%E4%BE%A0', '%E6%97%A5%E6%9C%AC%E6%BC%AB%E7%94%BB', '%E8%80%BD%E7%BE%8E', '%E9%9F%A9%E5%AF%92', '%E7%BD%91%E7%BB%9C%E5%B0%8F%E8%AF%B4', '%E7%A7%91%E5%B9%BB%E5%B0%8F%E8%AF%B4', '%E4%B8%89%E6%AF%9B', '%E4%BA%A6%E8%88%92', '%E9%98%BF%E5%8A%A0%E8%8E%8E%C2%B7%E5%85%8B%E9%87%8C%E6%96%AF%E8%92%82', '%E9%87%91%E5%BA%B8', '%E5%AE%89%E5%A6%AE%E5%AE%9D%E8%B4%9D', '%E7%A9%BF%E8%B6%8A', '%E9%83%AD%E6%95%AC%E6%98%8E', '%E8%BD%BB%E5%B0%8F%E8%AF%B4', '%E9%AD%94%E5%B9%BB', '%E9%9D%92%E6%98%A5%E6%96%87%E5%AD%A6', '%E5%87%A0%E7%B1%B3', 'J.K.%E7%BD%97%E7%90%B3', '%E5%B9%BE%E7%B1%B3', '%E5%BC%A0%E5%B0%8F%E5%A8%B4', '%E5%8F%A4%E9%BE%99', '%E6%A0%A1%E5%9B%AD', '%E9%AB%98%E6%9C%A8%E7%9B%B4%E5%AD%90', '%E6%B2%A7%E6%9C%88', '%E4%BD%99%E7%A7%8B%E9%9B%A8', '%E8%90%BD%E8%90%BD', '%E5%8E%86%E5%8F%B2', '%E5%BF%83%E7%90%86%E5%AD%A6', '%E5%93%B2%E5%AD%A6', '%E7%A4%BE%E4%BC%9A%E5%AD%A6', '%E4%BC%A0%E8%AE%B0', '%E6%96%87%E5%8C%96', '%E8%89%BA%E6%9C%AF', '%E7%A4%BE%E4%BC%9A', '%E6%94%BF%E6%B2%BB', '%E8%AE%BE%E8%AE%A1', '%E5%AE%97%E6%95%99', '%E6%94%BF%E6%B2%BB%E5%AD%A6', '%E5%BB%BA%E7%AD%91', '%E7%94%B5%E5%BD%B1', '%E6%95%B0%E5%AD%A6', '%E4%B8%AD%E5%9B%BD%E5%8E%86%E5%8F%B2', '%E5%9B%9E%E5%BF%86%E5%BD%95', '%E6%80%9D%E6%83%B3', '%E5%9B%BD%E5%AD%A6', '%E4%BA%BA%E7%89%A9%E4%BC%A0%E8%AE%B0', '%E8%89%BA%E6%9C%AF%E5%8F%B2', '%E4%BA%BA%E6%96%87', '%E9%9F%B3%E4%B9%90', '%E7%BB%98%E7%94%BB', '%E6%88%8F%E5%89%A7', '%E8%A5%BF%E6%96%B9%E5%93%B2%E5%AD%A6', '%E8%BF%91%E4%BB%A3%E5%8F%B2', '%E4%BA%8C%E6%88%98', '%E5%86%9B%E4%BA%8B', '%E4%BD%9B%E6%95%99', '%E8%80%83%E5%8F%A4', '%E8%87%AA%E7%94%B1%E4%B8%BB%E4%B9%89', '%E7%BE%8E%E6%9C%AF', '%E7%88%B1%E6%83%85', '%E6%88%90%E9%95%BF', '%E7%94%9F%E6%B4%BB', '%E6%97%85%E8%A1%8C', '%E5%BF%83%E7%90%86', '%E5%A5%B3%E6%80%A7', '%E5%8A%B1%E5%BF%97', '%E6%91%84%E5%BD%B1', '%E6%95%99%E8%82%B2', '%E8%81%8C%E5%9C%BA', '%E7%BE%8E%E9%A3%9F', '%E6%B8%B8%E8%AE%B0', '%E7%81%B5%E4%BF%AE', '%E5%81%A5%E5%BA%B7', '%E6%83%85%E6%84%9F', '%E4%BA%BA%E9%99%85%E5%85%B3%E7%B3%BB', '%E4%B8%A4%E6%80%A7', '%E5%85%BB%E7%94%9F', '%E6%89%8B%E5%B7%A5', '%E5%AE%B6%E5%B1%85', '%E8%87%AA%E5%8A%A9%E6%B8%B8', '%E7%BB%8F%E6%B5%8E%E5%AD%A6', '%E7%AE%A1%E7%90%86', '%E7%BB%8F%E6%B5%8E', '%E5%95%86%E4%B8%9A', '%E9%87%91%E8%9E%8D', '%E6%8A%95%E8%B5%84', '%E8%90%A5%E9%94%80', '%E7%90%86%E8%B4%A2', '%E5%88%9B%E4%B8%9A', '%E8%82%A1%E7%A5%A8', '%E5%B9%BF%E5%91%8A', '%E4%BC%81%E4%B8%9A%E5%8F%B2', '%E7%AD%96%E5%88%92', '%E7%A7%91%E6%99%AE', '%E4%BA%92%E8%81%94%E7%BD%91', '%E7%A7%91%E5%AD%A6', '%E7%BC%96%E7%A8%8B', '%E4%BA%A4%E4%BA%92%E8%AE%BE%E8%AE%A1', '%E7%AE%97%E6%B3%95', '%E7%94%A8%E6%88%B7%E4%BD%93%E9%AA%8C', '%E7%A7%91%E6%8A%80', 'web', '%E4%BA%A4%E4%BA%92', '%E9%80%9A%E4%BF%A1', 'UE', '%E7%A5%9E%E7%BB%8F%E7%BD%91%E7%BB%9C', 'UCD', '%E7%A8%8B%E5%BA%8F']\n"
     ]
    }
   ],
   "source": [
    "from lxml import html\n",
    "import requests, urllib.parse\n",
    "\n",
    "my_headers = {\n",
    "    'User-Agent': 'Mozilla/5.0 (Windows NT 10.0; Win64; x64) AppleWebKit/537.36 (KHTML, like Gecko) Chrome/83.0.4103.116 Safari/537.36 Edg/83.0.478.56',\n",
    "}\n",
    "\n",
    "tag_page = requests.get('https://book.douban.com/tag/', headers=my_headers)\n",
    "tag_tree = html.fromstring(tag_page.content)\n",
    "tags = tag_tree.xpath(\"//tbody/tr/td/a\")\n",
    "\n",
    "tag_list = list()\n",
    "for tag in tags:\n",
    "    tag_list.append(tag.text.strip())\n",
    "\n",
    "tag_url_encoding_list = list()\n",
    "for text in tag_list:\n",
    "    tag_url_encoding_list.append(urllib.parse.quote(text))\n",
    "    \n",
    "print(tag_list)\n",
    "print(tag_url_encoding_list)"
   ]
  },
  {
   "cell_type": "code",
   "execution_count": 2,
   "metadata": {
    "scrolled": true
   },
   "outputs": [
    {
     "name": "stdout",
     "output_type": "stream",
     "text": [
      "Help on function quote in module urllib.parse:\n",
      "\n",
      "quote(string, safe='/', encoding=None, errors=None)\n",
      "    quote('abc def') -> 'abc%20def'\n",
      "    \n",
      "    Each part of a URL, e.g. the path info, the query, etc., has a\n",
      "    different set of reserved characters that must be quoted. The\n",
      "    quote function offers a cautious (not minimal) way to quote a\n",
      "    string for most of these parts.\n",
      "    \n",
      "    RFC 3986 Uniform Resource Identifier (URI): Generic Syntax lists\n",
      "    the following (un)reserved characters.\n",
      "    \n",
      "    unreserved    = ALPHA / DIGIT / \"-\" / \".\" / \"_\" / \"~\"\n",
      "    reserved      = gen-delims / sub-delims\n",
      "    gen-delims    = \":\" / \"/\" / \"?\" / \"#\" / \"[\" / \"]\" / \"@\"\n",
      "    sub-delims    = \"!\" / \"$\" / \"&\" / \"'\" / \"(\" / \")\"\n",
      "                  / \"*\" / \"+\" / \",\" / \";\" / \"=\"\n",
      "    \n",
      "    Each of the reserved characters is reserved in some component of a URL,\n",
      "    but not necessarily in all of them.\n",
      "    \n",
      "    The quote function %-escapes all characters that are neither in the\n",
      "    unreserved chars (\"always safe\") nor the additional chars set via the\n",
      "    safe arg.\n",
      "    \n",
      "    The default for the safe arg is '/'. The character is reserved, but in\n",
      "    typical usage the quote function is being called on a path where the\n",
      "    existing slash characters are to be preserved.\n",
      "    \n",
      "    Python 3.7 updates from using RFC 2396 to RFC 3986 to quote URL strings.\n",
      "    Now, \"~\" is included in the set of unreserved characters.\n",
      "    \n",
      "    string and safe may be either str or bytes objects. encoding and errors\n",
      "    must not be specified if string is a bytes object.\n",
      "    \n",
      "    The optional encoding and errors parameters specify how to deal with\n",
      "    non-ASCII characters, as accepted by the str.encode method.\n",
      "    By default, encoding='utf-8' (characters are encoded with UTF-8), and\n",
      "    errors='strict' (unsupported characters raise a UnicodeEncodeError).\n",
      "\n"
     ]
    }
   ],
   "source": [
    "import urllib.parse\n",
    "help(urllib.parse.quote)"
   ]
  },
  {
   "cell_type": "markdown",
   "metadata": {},
   "source": [
    "*官方文档关于 ThreadPoolExecutor 例子*"
   ]
  },
  {
   "cell_type": "code",
   "execution_count": 3,
   "metadata": {
    "scrolled": true
   },
   "outputs": [
    {
     "name": "stdout",
     "output_type": "stream",
     "text": [
      "'http://www.foxnews.com/' page is 331286 bytes\n",
      "'http://some-made-up-domain.com/' page is 64668 bytes\n",
      "'http://www.bbc.co.uk/' page is 274945 bytes\n",
      "'http://europe.wsj.com/' generated an exception: HTTP Error 404: Not Found\n",
      "'http://www.cnn.com/' page is 1142131 bytes\n"
     ]
    }
   ],
   "source": [
    "import concurrent.futures\n",
    "import urllib.request\n",
    "\n",
    "URLS = ['http://www.foxnews.com/',\n",
    "        'http://www.cnn.com/',\n",
    "        'http://europe.wsj.com/',\n",
    "        'http://www.bbc.co.uk/',\n",
    "        'http://some-made-up-domain.com/']\n",
    "\n",
    "# Retrieve a single page and report the URL and contents\n",
    "def load_url(url, timeout):\n",
    "    with urllib.request.urlopen(url, timeout=timeout) as conn:\n",
    "        return conn.read()\n",
    "\n",
    "# We can use a with statement to ensure threads are cleaned up promptly\n",
    "with concurrent.futures.ThreadPoolExecutor(max_workers=5) as executor:\n",
    "    # Start the load operations and mark each future with its URL\n",
    "    future_to_url = {executor.submit(load_url, url, 60): url for url in URLS}\n",
    "    for future in concurrent.futures.as_completed(future_to_url):\n",
    "        url = future_to_url[future]\n",
    "        try:\n",
    "            data = future.result()\n",
    "        except Exception as exc:\n",
    "            print('%r generated an exception: %s' % (url, exc))\n",
    "        else:\n",
    "            print('%r page is %d bytes' % (url, len(data)))"
   ]
  },
  {
   "cell_type": "code",
   "execution_count": 4,
   "metadata": {},
   "outputs": [
    {
     "name": "stdout",
     "output_type": "stream",
     "text": [
      "Help on class ThreadPoolExecutor in module concurrent.futures.thread:\n",
      "\n",
      "class ThreadPoolExecutor(concurrent.futures._base.Executor)\n",
      " |  ThreadPoolExecutor(max_workers=None, thread_name_prefix='', initializer=None, initargs=())\n",
      " |  \n",
      " |  This is an abstract base class for concrete asynchronous executors.\n",
      " |  \n",
      " |  Method resolution order:\n",
      " |      ThreadPoolExecutor\n",
      " |      concurrent.futures._base.Executor\n",
      " |      builtins.object\n",
      " |  \n",
      " |  Methods defined here:\n",
      " |  \n",
      " |  __init__(self, max_workers=None, thread_name_prefix='', initializer=None, initargs=())\n",
      " |      Initializes a new ThreadPoolExecutor instance.\n",
      " |      \n",
      " |      Args:\n",
      " |          max_workers: The maximum number of threads that can be used to\n",
      " |              execute the given calls.\n",
      " |          thread_name_prefix: An optional name prefix to give our threads.\n",
      " |          initializer: A callable used to initialize worker threads.\n",
      " |          initargs: A tuple of arguments to pass to the initializer.\n",
      " |  \n",
      " |  shutdown(self, wait=True)\n",
      " |      Clean-up the resources associated with the Executor.\n",
      " |      \n",
      " |      It is safe to call this method several times. Otherwise, no other\n",
      " |      methods can be called after this one.\n",
      " |      \n",
      " |      Args:\n",
      " |          wait: If True then shutdown will not return until all running\n",
      " |              futures have finished executing and the resources used by the\n",
      " |              executor have been reclaimed.\n",
      " |  \n",
      " |  submit(*args, **kwargs)\n",
      " |      Submits a callable to be executed with the given arguments.\n",
      " |      \n",
      " |      Schedules the callable to be executed as fn(*args, **kwargs) and returns\n",
      " |      a Future instance representing the execution of the callable.\n",
      " |      \n",
      " |      Returns:\n",
      " |          A Future representing the given call.\n",
      " |  \n",
      " |  ----------------------------------------------------------------------\n",
      " |  Methods inherited from concurrent.futures._base.Executor:\n",
      " |  \n",
      " |  __enter__(self)\n",
      " |  \n",
      " |  __exit__(self, exc_type, exc_val, exc_tb)\n",
      " |  \n",
      " |  map(self, fn, *iterables, timeout=None, chunksize=1)\n",
      " |      Returns an iterator equivalent to map(fn, iter).\n",
      " |      \n",
      " |      Args:\n",
      " |          fn: A callable that will take as many arguments as there are\n",
      " |              passed iterables.\n",
      " |          timeout: The maximum number of seconds to wait. If None, then there\n",
      " |              is no limit on the wait time.\n",
      " |          chunksize: The size of the chunks the iterable will be broken into\n",
      " |              before being passed to a child process. This argument is only\n",
      " |              used by ProcessPoolExecutor; it is ignored by\n",
      " |              ThreadPoolExecutor.\n",
      " |      \n",
      " |      Returns:\n",
      " |          An iterator equivalent to: map(func, *iterables) but the calls may\n",
      " |          be evaluated out-of-order.\n",
      " |      \n",
      " |      Raises:\n",
      " |          TimeoutError: If the entire result iterator could not be generated\n",
      " |              before the given timeout.\n",
      " |          Exception: If fn(*args) raises for any values.\n",
      " |  \n",
      " |  ----------------------------------------------------------------------\n",
      " |  Data descriptors inherited from concurrent.futures._base.Executor:\n",
      " |  \n",
      " |  __dict__\n",
      " |      dictionary for instance variables (if defined)\n",
      " |  \n",
      " |  __weakref__\n",
      " |      list of weak references to the object (if defined)\n",
      "\n",
      "**********************************************************************\n",
      "Help on function as_completed in module concurrent.futures._base:\n",
      "\n",
      "as_completed(fs, timeout=None)\n",
      "    An iterator over the given futures that yields each as it completes.\n",
      "    \n",
      "    Args:\n",
      "        fs: The sequence of Futures (possibly created by different Executors) to\n",
      "            iterate over.\n",
      "        timeout: The maximum number of seconds to wait. If None, then there\n",
      "            is no limit on the wait time.\n",
      "    \n",
      "    Returns:\n",
      "        An iterator that yields the given Futures as they complete (finished or\n",
      "        cancelled). If any given Futures are duplicated, they will be returned\n",
      "        once.\n",
      "    \n",
      "    Raises:\n",
      "        TimeoutError: If the entire result iterator could not be generated\n",
      "            before the given timeout.\n",
      "\n"
     ]
    }
   ],
   "source": [
    "import concurrent.futures\n",
    "help(concurrent.futures.ThreadPoolExecutor)\n",
    "print('**********************************************************************')\n",
    "help(concurrent.futures.as_completed)"
   ]
  },
  {
   "cell_type": "markdown",
   "metadata": {},
   "source": [
    "*字符串格式化的另一种写法*"
   ]
  },
  {
   "cell_type": "code",
   "execution_count": 5,
   "metadata": {},
   "outputs": [
    {
     "name": "stdout",
     "output_type": "stream",
     "text": [
      "Hello world!\n",
      "Hello world!\n"
     ]
    }
   ],
   "source": [
    "var = 'world'\n",
    "print('Hello {}!'.format(var))\n",
    "print(f'Hello {var}!') # python 3.6 and above"
   ]
  }
 ],
 "metadata": {
  "kernelspec": {
   "display_name": "Python 3",
   "language": "python",
   "name": "python3"
  },
  "language_info": {
   "codemirror_mode": {
    "name": "ipython",
    "version": 3
   },
   "file_extension": ".py",
   "mimetype": "text/x-python",
   "name": "python",
   "nbconvert_exporter": "python",
   "pygments_lexer": "ipython3",
   "version": "3.7.6"
  }
 },
 "nbformat": 4,
 "nbformat_minor": 4
}
