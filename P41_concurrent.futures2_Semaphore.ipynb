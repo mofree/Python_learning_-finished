{
 "cells": [
  {
   "cell_type": "code",
   "execution_count": 1,
   "metadata": {},
   "outputs": [
    {
     "name": "stdout",
     "output_type": "stream",
     "text": [
      "url_6 processed.\n",
      "url_10 processed.\n",
      "url_8 processed.\n",
      "url_7 processed.\n",
      "url_9 processed.\n",
      "url_5 processed.\n",
      "url_4 processed.\n",
      "url_3 processed.\n",
      "url_2 processed.\n",
      "url_1 processed.\n",
      "url_0 processed.\n",
      "thread 0 end. last task return 1.\n",
      "thread 2 end. last task return 1.\n",
      "thread 4 end. last task return 1.\n",
      "thread 3 end. last task return 1.\n",
      "thread 1 end. last task return 1.\n",
      "Wall time: 7.06 s\n"
     ]
    }
   ],
   "source": [
    "%%time \n",
    "# jupyter notebook 指令，用于显示整个cell运行时间\n",
    "\n",
    "import concurrent.futures, time\n",
    "from threading import Semaphore\n",
    "my_Semaphore = Semaphore()\n",
    "\n",
    "url_queue = ['url_' + str(i) for i in range(11)]\n",
    "working_parser_num = 0\n",
    "\n",
    "def worker(num):\n",
    "    \"\"\"模拟线程池不断从队列中取url的动作\n",
    "    num：表示线程池中的第几个线程\n",
    "    \"\"\"\n",
    "    global url_queue, working_parser_num, my_Semaphore\n",
    "    while True:\n",
    "        url = None\n",
    "        my_Semaphore.acquire() # if 判断 和 pop 操作最好在一个原子操作中完成，否则可能被其他线程抢先 pop\n",
    "        if url_queue:\n",
    "            working_parser_num += 1 # 放在 pop 前，否则会出现 pop 后，队列变空，而 working_parser_num 还未来得及加一，导致其他线程结束\n",
    "            url = url_queue.pop()\n",
    "        my_Semaphore.release()\n",
    "        \n",
    "        if url:\n",
    "            parser(url)\n",
    "            print(url + ' processed.\\n', end='')\n",
    "            working_parser_num -= 1\n",
    "        elif working_parser_num == 0:\n",
    "            break\n",
    "        else:\n",
    "            time.sleep(3) # 用来等待其他工作中的线程处理数据，也通过延时避免本线程始终处于判断状态\n",
    "    return 1\n",
    "\n",
    "def parser(url):\n",
    "    \"\"\"用延时模拟：对url的解析，并向队列中写入新url\n",
    "    \"\"\"\n",
    "    time.sleep(2)\n",
    "\n",
    "THREAD_NUM = 5\n",
    "with concurrent.futures.ThreadPoolExecutor(max_workers=THREAD_NUM) as executor: # 基于官方ThreadPoolExecutor例子的修改，亦见 P38\n",
    "    # Start the load operations and mark each future with its URL\n",
    "    future_to_tid = {executor.submit(worker, tid): tid for tid in range(THREAD_NUM)}\n",
    "    for future in concurrent.futures.as_completed(future_to_tid):\n",
    "        tid = future_to_tid[future]\n",
    "        try:\n",
    "            data = future.result()\n",
    "        except Exception as exc:\n",
    "            print('%d generated an exception: %s' % (tid, exc))\n",
    "        else:\n",
    "            # print('task %d return %d.' % (tid, data))\n",
    "            print('thread %d end. last task return %d.' % (tid, data))"
   ]
  }
 ],
 "metadata": {
  "kernelspec": {
   "display_name": "Python 3",
   "language": "python",
   "name": "python3"
  },
  "language_info": {
   "codemirror_mode": {
    "name": "ipython",
    "version": 3
   },
   "file_extension": ".py",
   "mimetype": "text/x-python",
   "name": "python",
   "nbconvert_exporter": "python",
   "pygments_lexer": "ipython3",
   "version": "3.7.6"
  }
 },
 "nbformat": 4,
 "nbformat_minor": 4
}
