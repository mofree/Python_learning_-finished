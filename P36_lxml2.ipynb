{
 "cells": [
  {
   "cell_type": "code",
   "execution_count": 1,
   "metadata": {
    "scrolled": true
   },
   "outputs": [
    {
     "name": "stdout",
     "output_type": "stream",
     "text": [
      "[('神经网络与深度学习', 'https://book.douban.com/subject/35044046/', '邱锡鹏 / 机械工业出版社 / 2020-4-10 / 149.00元'), ('Python深度学习', 'https://book.douban.com/subject/30293801/', '[美] 弗朗索瓦•肖莱 / 张亮 / 人民邮电出版社 / 2018-8 / 119.00元'), ('Python神经网络编程', 'https://book.douban.com/subject/30192800/', '[英]塔里克·拉希德（Tariq Rashid） / 林赐 / 人民邮电出版社 / 2018-4 / 69.00元'), ('深度学习入门: 基于Python的理论与实现', 'https://book.douban.com/subject/30270959/', '[ 日］  斋藤康毅 / 陆宇杰 / 人民邮电出版社 / 2018-7 / 59.00元'), ('深度学习的数学', 'https://book.douban.com/subject/33414479/', '[日]涌井良幸、[日]涌井贞美 / 杨瑞龙 / 人民邮电出版社 / 2019-4 / 69.00元'), ('意识的宇宙: 物质如何转变为精神', 'https://book.douban.com/subject/1159821/', '[美] 杰拉尔德·埃德尔曼、[美] 朱利欧·托诺尼 / 顾凡及 / 上海科学技术出版社 / 2004-1 / 27.00元'), ('数字思维', 'https://book.douban.com/subject/34941715/', '[葡] 阿林多•奥利维拉 / 胡小锐 / 中信出版社 / 2020-1-1 / 69.00'), ('神经网络设计（原书第2版）', 'https://book.douban.com/subject/30236893/', 'Martin T. Hagan、Howard B. Demuth、Mark H. Beale / 章毅 / 机械工业出版社 / 2017-11 / 99.00元'), ('连接组：造就独一无二的你', 'https://book.douban.com/subject/26666358/', '[美] 承现峻 / 孙天齐 / 清华大学出版社 / 2016-1 / 45'), ('图解深度学习与神经网络：从张量到TensorFlow实现', 'https://book.douban.com/subject/30333961/', '张平 / 电子工业出版社 / 2018-10 / 79.00元'), ('深入浅出图神经网络：GNN原理解析', 'https://book.douban.com/subject/34927262/', '刘忠雨\\u3000李彦霖\\u3000周洋\\u3000著 / 机械工业出版社 / 2019-12-25 / 89元'), ('Neural Networks and Deep Learning', 'https://book.douban.com/subject/26727997/', 'Michael Nielsen / 2016-1'), ('神经网络在应用科学和工程中的应用: 从基本原理到复杂的模式识别', 'https://book.douban.com/subject/4146246/', '萨马拉辛荷 / 2010-1 / 88.00元'), ('Make Your Own Neural Network', 'https://book.douban.com/subject/26945232/', 'Tariq Rashid / CreateSpace Independent Publishing Platform / 2016-3-31 / USD 45.00'), ('Neural Networks and Learning Machines: Third Edition', 'https://book.douban.com/subject/2584657/', 'Simon O. Haykin / Pearson / 2008-11-28 / USD 252.40'), ('神经网络原理(原书第2版)', 'https://book.douban.com/subject/1138922/', 'Simon Haykin / 叶世伟、史忠植 / 机械工业出版社 / 2004-1 / 69.00元'), ('神经网络控制', 'https://book.douban.com/subject/3890040/', '徐丽娜 / 2009-7 / 28.00元'), ('Neural Networks and Statistical Learning', 'https://book.douban.com/subject/26422529/', 'Ke-Lin Du、M. N. S. Swamy / Springer / 2013-12-7 / USD 129.00'), ('精通Visual C++指纹模式识别系统算法及实现', 'https://book.douban.com/subject/3349636/', '2008-12 / 59.00元'), ('神经动力学模型方法和应用', 'https://book.douban.com/subject/1237509/', '阮炯 顾凡及 蔡志杰 / 科学出版社 / 2002-04-01 / 28.00元'), ('Learning Deep Architectures for AI', 'https://book.douban.com/subject/6346890/', 'Yoshua Bengio / 695.00 元'), ('智慧的疆界: 从图灵机到人工智能', 'https://book.douban.com/subject/30379536/', '周志明 / 机械工业出版社 / 2018-1-1 / 56.9'), ('MATLAB神经网络原理与实例精解', 'https://book.douban.com/subject/21797398/', '陈明 / 清华大学出版社 / 2013-2 / 69.00元'), ('Hands-On Machine Learning with Scikit-Learn and TensorFlow: Concepts, Tools, and Techniques for Building Intelligent Systems', 'https://book.douban.com/subject/26840215/', \"Aurélien Géron / O'Reilly Media / 2017-1-25 / USD 49.99\"), ('Introduction to Graph Neural Networks', 'https://book.douban.com/subject/35029785/', 'Zhiyuan Liu、Jie Zhou / Morgan & Claypool / 2020-3-20 / USD 65'), ('Unsupervised Learning: Foundations of Neural Computation', 'https://book.douban.com/subject/6529821/', 'A Bradford Book / 1999-6-11 / USD 40.00'), ('人工神经网络理论、设计及应用', 'https://book.douban.com/subject/2309035/', '韩力群 / 化学工业 / 2007-7 / 29.80元'), ('Neural Networks and Deep Learning', 'https://book.douban.com/subject/30403904/', 'Charu C. Aggarwal'), ('MATLAB神经网络43个案例分析', 'https://book.douban.com/subject/26388161/', '王小川、史峰、郁磊、李洋 / 北京航空航天大学出版社 / 2013-8-1 / CNY 48.00'), ('人工神经网络理论及应用(普通高等教育电气工程自动化系列规划教材)', 'https://book.douban.com/subject/27111946/', '编者:韩力群//施彦 / 机械工业 / 2017-07-01 / 39.8'), ('Neural Network Design', 'https://book.douban.com/subject/4142989/', 'Martin T. Hagan、Howard B. Demuth、Mark H. Beale / Martin Hagan / 2002-1 / USD 80.00'), ('Neural Network Learning: Theoretical Foundations', 'https://book.douban.com/subject/4793046/', 'Martin Anthony、Peter L. Bartlett / Cambridge University Press / 2009-8-20 / USD 59.00'), ('神经网络设计', 'https://book.douban.com/subject/1115600/', 'Martin T. Hagan / 戴葵、李伯民 审校 / 机械工业出版社 / 2007-09-01 / 49.0'), ('自己动手写神经网络', 'https://book.douban.com/subject/30142948/', '葛一鸣 / 人民邮电出版社 / 2017-9 / 55'), ('神经网络与机器学习: 英文版·第3版', 'https://book.douban.com/subject/3676140/', '(加)海金 / 机械工业出版社 / 2009-3 / 69.00元'), ('认知的维度', 'https://book.douban.com/subject/30312301/', '宋锋林 / 北京邮电大学出版社 / 2018-7 / 49'), ('深度学习核心技术与实践', 'https://book.douban.com/subject/30159603/', '猿辅导研究团队 / 电子工业出版社 / 2018-2 / 119.00元')]\n"
     ]
    }
   ],
   "source": [
    "from lxml import html\n",
    "import requests\n",
    "\n",
    "my_headers = {\n",
    "    'User-Agent': 'Mozilla/5.0 (Windows NT 10.0; Win64; x64) AppleWebKit/537.36 (KHTML, like Gecko) Chrome/83.0.4103.116 Safari/537.36 Edg/83.0.478.56',\n",
    "}\n",
    "first_page = 'https://book.douban.com/tag/%E7%A5%9E%E7%BB%8F%E7%BD%91%E7%BB%9C?start=0&type=T' # 须包含页码相关字段\n",
    "\n",
    "result = list()\n",
    "\n",
    "my_page = requests.get(first_page, headers=my_headers)\n",
    "my_tree = html.fromstring(my_page.content)\n",
    "\n",
    "page_link = my_tree.xpath(\"//div[@class='paginator']/a\")\n",
    "max_page = int(page_link[-1].text) if page_link else 1\n",
    "\n",
    "for i in range(max_page):\n",
    "    my_page = requests.get(first_page.replace('start=0', 'start={}'.format(i * 20)), headers=my_headers)\n",
    "    my_tree = html.fromstring(my_page.content)\n",
    "    book_block = my_tree.xpath(\"//li[@class='subject-item']\")\n",
    "\n",
    "    for ele in book_block:\n",
    "        name_obj = ele.xpath(\".//div[@class='info']/h2/a\")\n",
    "        pub_obj = ele.xpath(\".//div[@class='pub']\")\n",
    "\n",
    "        name = ''.join(i.strip() for i in name_obj[0].itertext())\n",
    "        # name = ''\n",
    "        # for i in name_obj[0].itertext():\n",
    "        #     name += i.strip()\n",
    "        link = name_obj[0].attrib['href'] # if name_obj else 'N/A'\n",
    "        pub = pub_obj[0].text.strip() if pub_obj else 'N/A'\n",
    "\n",
    "        ele_tuple = (name, link, pub)\n",
    "        result.append(ele_tuple)\n",
    "    \n",
    "print(result)"
   ]
  },
  {
   "cell_type": "code",
   "execution_count": 2,
   "metadata": {
    "scrolled": true
   },
   "outputs": [
    {
     "data": {
      "text/plain": [
       "['__bool__',\n",
       " '__class__',\n",
       " '__contains__',\n",
       " '__copy__',\n",
       " '__deepcopy__',\n",
       " '__delattr__',\n",
       " '__delitem__',\n",
       " '__dict__',\n",
       " '__dir__',\n",
       " '__doc__',\n",
       " '__eq__',\n",
       " '__format__',\n",
       " '__ge__',\n",
       " '__getattribute__',\n",
       " '__getitem__',\n",
       " '__gt__',\n",
       " '__hash__',\n",
       " '__init__',\n",
       " '__init_subclass__',\n",
       " '__iter__',\n",
       " '__le__',\n",
       " '__len__',\n",
       " '__lt__',\n",
       " '__module__',\n",
       " '__ne__',\n",
       " '__new__',\n",
       " '__reduce__',\n",
       " '__reduce_ex__',\n",
       " '__repr__',\n",
       " '__reversed__',\n",
       " '__setattr__',\n",
       " '__setitem__',\n",
       " '__sizeof__',\n",
       " '__str__',\n",
       " '__subclasshook__',\n",
       " '__weakref__',\n",
       " '_init',\n",
       " 'addnext',\n",
       " 'addprevious',\n",
       " 'append',\n",
       " 'attrib',\n",
       " 'base',\n",
       " 'base_url',\n",
       " 'body',\n",
       " 'classes',\n",
       " 'clear',\n",
       " 'cssselect',\n",
       " 'drop_tag',\n",
       " 'drop_tree',\n",
       " 'extend',\n",
       " 'find',\n",
       " 'find_class',\n",
       " 'find_rel_links',\n",
       " 'findall',\n",
       " 'findtext',\n",
       " 'forms',\n",
       " 'get',\n",
       " 'get_element_by_id',\n",
       " 'getchildren',\n",
       " 'getiterator',\n",
       " 'getnext',\n",
       " 'getparent',\n",
       " 'getprevious',\n",
       " 'getroottree',\n",
       " 'head',\n",
       " 'index',\n",
       " 'insert',\n",
       " 'items',\n",
       " 'iter',\n",
       " 'iterancestors',\n",
       " 'iterchildren',\n",
       " 'iterdescendants',\n",
       " 'iterfind',\n",
       " 'iterlinks',\n",
       " 'itersiblings',\n",
       " 'itertext',\n",
       " 'keys',\n",
       " 'label',\n",
       " 'make_links_absolute',\n",
       " 'makeelement',\n",
       " 'nsmap',\n",
       " 'prefix',\n",
       " 'remove',\n",
       " 'replace',\n",
       " 'resolve_base_href',\n",
       " 'rewrite_links',\n",
       " 'set',\n",
       " 'sourceline',\n",
       " 'tag',\n",
       " 'tail',\n",
       " 'text',\n",
       " 'text_content',\n",
       " 'values',\n",
       " 'xpath']"
      ]
     },
     "execution_count": 2,
     "metadata": {},
     "output_type": "execute_result"
    }
   ],
   "source": [
    "dir(book_block[0])"
   ]
  },
  {
   "cell_type": "markdown",
   "metadata": {},
   "source": [
    "*测试列表的if判断*"
   ]
  },
  {
   "cell_type": "code",
   "execution_count": 3,
   "metadata": {},
   "outputs": [
    {
     "name": "stdout",
     "output_type": "stream",
     "text": [
      "b\n",
      "c\n"
     ]
    }
   ],
   "source": [
    "if []:\n",
    "    print('a')\n",
    "\n",
    "if [None]:\n",
    "    print('b')\n",
    "\n",
    "if [1]:\n",
    "    print('c')"
   ]
  }
 ],
 "metadata": {
  "kernelspec": {
   "display_name": "Python 3",
   "language": "python",
   "name": "python3"
  },
  "language_info": {
   "codemirror_mode": {
    "name": "ipython",
    "version": 3
   },
   "file_extension": ".py",
   "mimetype": "text/x-python",
   "name": "python",
   "nbconvert_exporter": "python",
   "pygments_lexer": "ipython3",
   "version": "3.7.6"
  }
 },
 "nbformat": 4,
 "nbformat_minor": 4
}
