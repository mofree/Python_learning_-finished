{
 "cells": [
  {
   "cell_type": "code",
   "execution_count": 1,
   "metadata": {},
   "outputs": [],
   "source": [
    "# P21的代码\n",
    "class morseCodec():\n",
    "    morse_dict = {\n",
    "        'A': '·-',\n",
    "        'B': '-···',\n",
    "        'C': '-·-·',\n",
    "        'D': '-··',\n",
    "        'E': '·',\n",
    "        'F': '··-·',\n",
    "        'G': '--·',\n",
    "        'H': '····',\n",
    "        'I': '··',\n",
    "        'J': '·---',\n",
    "        'K': '-·-',\n",
    "        'L': '·-··',\n",
    "        'M': '--',\n",
    "        'N': '-·',\n",
    "        'O': '---',\n",
    "        'P': '·--·',\n",
    "        'Q': '--·-',\n",
    "        'R': '·-·',\n",
    "        'S': '···',\n",
    "        'T': '-',\n",
    "        'U': '··-',\n",
    "        'V': '···-',\n",
    "        'W': '·--',\n",
    "        'X': '-··-',\n",
    "        'Y': '-·--',\n",
    "        'Z': '--··',\n",
    "        '1': '·----',\n",
    "        '2': '··---',\n",
    "        '3': '···--',\n",
    "        '4': '····-',\n",
    "        '5': '·····',\n",
    "        '6': '-····',\n",
    "        '7': '--···',\n",
    "        '8': '---··',\n",
    "        '9': '----·',\n",
    "        '0': '-----',\n",
    "        '.': '·-·-·-',\n",
    "        ':': '---···',\n",
    "        ',': '--··--',\n",
    "        ';': '-·-·-·',\n",
    "        '?': '··--··',\n",
    "        '=': '-···-',\n",
    "        \"'\": '·----·',\n",
    "        '/': '-··-·',\n",
    "        '!': '-·-·--',\n",
    "        '-': '-····-',\n",
    "        '_': '··--·-',\n",
    "        '\"': '·-··-·',\n",
    "        '(': '-·--·',\n",
    "        ')': '-·--·-',\n",
    "        '$': '···-··-',\n",
    "        '&': '·-···',\n",
    "        '@': '·--·-·',\n",
    "        '+': '·-·-·'}\n",
    "    morse_dict_reverse = {\n",
    "        '·-': 'A',\n",
    "        '-···': 'B',\n",
    "        '-·-·': 'C',\n",
    "        '-··': 'D',\n",
    "        '·': 'E',\n",
    "        '··-·': 'F',\n",
    "        '--·': 'G',\n",
    "        '····': 'H',\n",
    "        '··': 'I',\n",
    "        '·---': 'J',\n",
    "        '-·-': 'K',\n",
    "        '·-··': 'L',\n",
    "        '--': 'M',\n",
    "        '-·': 'N',\n",
    "        '---': 'O',\n",
    "        '·--·': 'P',\n",
    "        '--·-': 'Q',\n",
    "        '·-·': 'R',\n",
    "        '···': 'S',\n",
    "        '-': 'T',\n",
    "        '··-': 'U',\n",
    "        '···-': 'V',\n",
    "        '·--': 'W',\n",
    "        '-··-': 'X',\n",
    "        '-·--': 'Y',\n",
    "        '--··': 'Z',\n",
    "        '·----': '1',\n",
    "        '··---': '2',\n",
    "        '···--': '3',\n",
    "        '····-': '4',\n",
    "        '·····': '5',\n",
    "        '-····': '6',\n",
    "        '--···': '7',\n",
    "        '---··': '8',\n",
    "        '----·': '9',\n",
    "        '-----': '0',\n",
    "        '·-·-·-': '.',\n",
    "        '---···': ':',\n",
    "        '--··--': ',',\n",
    "        '-·-·-·': ';',\n",
    "        '··--··': '?',\n",
    "        '-···-': '=',\n",
    "        '·----·': \"'\",\n",
    "        '-··-·': '/',\n",
    "        '-·-·--': '!',\n",
    "        '-····-': '-',\n",
    "        '··--·-': '_',\n",
    "        '·-··-·': '\"',\n",
    "        '-·--·': '(',\n",
    "        '-·--·-': ')',\n",
    "        '···-··-': '$',\n",
    "        '·-···': '&',\n",
    "        '·--·-·': '@',\n",
    "        '·-·-·': '+'}\n",
    "    \n",
    "    def __init__(self):\n",
    "        pass\n",
    "    \n",
    "    def encode(self, src_text):\n",
    "        src_text = src_text.upper()\n",
    "        result = ''\n",
    "        for single_char in src_text:\n",
    "            result += self.morse_dict.get(single_char, '\\\\') + ' ' # 不管morse_dict是类变量还是实例变量都需要加self.，因为是在def外定义的，且不是全局变量\n",
    "        return result\n",
    "\n",
    "    def decode(self, morse_text):\n",
    "        result = ''\n",
    "        for seg in morse_text.split():\n",
    "            result += self.morse_dict_reverse.get(seg,' ')\n",
    "        return result"
   ]
  },
  {
   "cell_type": "code",
   "execution_count": 2,
   "metadata": {},
   "outputs": [],
   "source": [
    "class smoothMorse(morseCodec):\n",
    "    \"\"\"继承morseCodec，用于解密连续morse编码\n",
    "    \"\"\"\n",
    "    \n",
    "    def __init__(self):\n",
    "        morseCodec.__init__(self)\n",
    "        pass\n",
    "    \n",
    "    def encode(self, src_text):\n",
    "        \"\"\"与父类不同，去掉空格\n",
    "        \"\"\"\n",
    "        src_text = src_text.upper()\n",
    "        result = ''\n",
    "        for single_char in src_text:\n",
    "            result += self.morse_dict.get(single_char, '\\\\')\n",
    "        return result\n",
    "    \n",
    "    def guess_morse(self, morse_seg, cur_morse, cur_start, result):\n",
    "        \"\"\"根据输入morse码，返回所有可能解码信息\n",
    "        参数：\n",
    "        morse_seg：待解密morse码片段\n",
    "        cur_morse：当前已解码的串\n",
    "        cur_start：当前开始解码位置\n",
    "        result：列表，用于回收所有结果\n",
    "        \"\"\"\n",
    "        # 码表中最长为7\n",
    "        for end in range(cur_start + 1, cur_start + min(len(morse_seg) - cur_start, 7) + 1):\n",
    "            single_char = self.morse_dict_reverse.get(morse_seg[cur_start:end], None)\n",
    "            if single_char == None:\n",
    "                break\n",
    "            else:\n",
    "                if end == len(morse_seg):\n",
    "                    result.append(cur_morse + single_char)\n",
    "                else:\n",
    "                    self.guess_morse(morse_seg, cur_morse + single_char, end, result)\n",
    "        if cur_start == 0:\n",
    "            return result"
   ]
  },
  {
   "cell_type": "code",
   "execution_count": 3,
   "metadata": {},
   "outputs": [
    {
     "name": "stdout",
     "output_type": "stream",
     "text": [
      "·-··---···-·\n",
      "AUGER\n",
      "AUGITE\n",
      "RAGER\n",
      "LTZEN\n",
      "LOIR\n",
      "LOVE\n"
     ]
    }
   ],
   "source": [
    "my_smoothMorse = smoothMorse()\n",
    "print(my_smoothMorse.encode('LOVE'))\n",
    "\n",
    "with open('P25_words.txt', 'r') as f:\n",
    "    word_set = set([word.upper() for word in f.read().split()])\n",
    "\n",
    "# 方法一：for循环\n",
    "for word in my_smoothMorse.guess_morse('·-··---···-·', '', 0, []):\n",
    "    if word in word_set:\n",
    "        print(word)"
   ]
  },
  {
   "cell_type": "code",
   "execution_count": 4,
   "metadata": {},
   "outputs": [
    {
     "data": {
      "text/plain": [
       "['AUGER', 'AUGITE', 'RAGER', 'LTZEN', 'LOIR', 'LOVE']"
      ]
     },
     "execution_count": 4,
     "metadata": {},
     "output_type": "execute_result"
    }
   ],
   "source": [
    "# 方法二：列表推导\n",
    "[word for word in my_smoothMorse.guess_morse('·-··---···-·', '', 0, []) if word in word_set]"
   ]
  },
  {
   "cell_type": "code",
   "execution_count": 5,
   "metadata": {},
   "outputs": [
    {
     "data": {
      "text/plain": [
       "['AUGER', 'AUGITE', 'RAGER', 'LTZEN', 'LOIR', 'LOVE']"
      ]
     },
     "execution_count": 5,
     "metadata": {},
     "output_type": "execute_result"
    }
   ],
   "source": [
    "# 方法三：filter函数\n",
    "list(filter(lambda x: x in word_set, my_smoothMorse.guess_morse('·-··---···-·', '', 0, [])))"
   ]
  },
  {
   "cell_type": "code",
   "execution_count": 6,
   "metadata": {},
   "outputs": [
    {
     "data": {
      "text/plain": [
       "{'AUGER', 'AUGITE', 'LOIR', 'LOVE', 'LTZEN', 'RAGER'}"
      ]
     },
     "execution_count": 6,
     "metadata": {},
     "output_type": "execute_result"
    }
   ],
   "source": [
    "# 方法四：集合交集\n",
    "set(my_smoothMorse.guess_morse('·-··---···-·', '', 0, [])) & word_set"
   ]
  },
  {
   "cell_type": "code",
   "execution_count": 7,
   "metadata": {},
   "outputs": [
    {
     "name": "stdout",
     "output_type": "stream",
     "text": [
      "·-··---···-·\n",
      "369 LOVE\n"
     ]
    }
   ],
   "source": [
    "# 参考常用词解码\n",
    "my_smoothMorse = smoothMorse()\n",
    "print(my_smoothMorse.encode('LOVE'))\n",
    "\n",
    "with open('P25_google-10000-english.txt', 'r') as f:\n",
    "    word_list = [word.upper() for word in f.read().split()]\n",
    "morse_word_list = [my_smoothMorse.encode(word_list[i]) for i in range(0,len(word_list))]\n",
    "\n",
    "for i in range(0,len(word_list)):\n",
    "    if '·-··---···-·' == morse_word_list[i]:\n",
    "        print(i, word_list[i])"
   ]
  }
 ],
 "metadata": {
  "kernelspec": {
   "display_name": "Python 3",
   "language": "python",
   "name": "python3"
  },
  "language_info": {
   "codemirror_mode": {
    "name": "ipython",
    "version": 3
   },
   "file_extension": ".py",
   "mimetype": "text/x-python",
   "name": "python",
   "nbconvert_exporter": "python",
   "pygments_lexer": "ipython3",
   "version": "3.7.6"
  }
 },
 "nbformat": 4,
 "nbformat_minor": 4
}
