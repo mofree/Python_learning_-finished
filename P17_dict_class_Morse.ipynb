{
 "cells": [
  {
   "cell_type": "code",
   "execution_count": 1,
   "metadata": {},
   "outputs": [
    {
     "data": {
      "text/plain": [
       "['__class__',\n",
       " '__contains__',\n",
       " '__delattr__',\n",
       " '__delitem__',\n",
       " '__dir__',\n",
       " '__doc__',\n",
       " '__eq__',\n",
       " '__format__',\n",
       " '__ge__',\n",
       " '__getattribute__',\n",
       " '__getitem__',\n",
       " '__gt__',\n",
       " '__hash__',\n",
       " '__init__',\n",
       " '__init_subclass__',\n",
       " '__iter__',\n",
       " '__le__',\n",
       " '__len__',\n",
       " '__lt__',\n",
       " '__ne__',\n",
       " '__new__',\n",
       " '__reduce__',\n",
       " '__reduce_ex__',\n",
       " '__repr__',\n",
       " '__setattr__',\n",
       " '__setitem__',\n",
       " '__sizeof__',\n",
       " '__str__',\n",
       " '__subclasshook__',\n",
       " 'clear',\n",
       " 'copy',\n",
       " 'fromkeys',\n",
       " 'get',\n",
       " 'items',\n",
       " 'keys',\n",
       " 'pop',\n",
       " 'popitem',\n",
       " 'setdefault',\n",
       " 'update',\n",
       " 'values']"
      ]
     },
     "execution_count": 1,
     "metadata": {},
     "output_type": "execute_result"
    }
   ],
   "source": [
    "dir({})"
   ]
  },
  {
   "cell_type": "code",
   "execution_count": 2,
   "metadata": {},
   "outputs": [
    {
     "name": "stdout",
     "output_type": "stream",
     "text": [
      "dict_keys(['a', 'c'])\n",
      "dict_values([5, 8])\n",
      "dict_items([('a', 5), ('c', 8)])\n",
      "5\n",
      "8\n",
      "a 5\n",
      "c 8\n"
     ]
    }
   ],
   "source": [
    "a = dict()\n",
    "a['a'] = 5\n",
    "a['c'] = 8\n",
    "\n",
    "print(a.keys())\n",
    "print(a.values())\n",
    "print(a.items())\n",
    "\n",
    "for k in a:\n",
    "    print(a[k])\n",
    "\n",
    "for k, v in a.items(): #python中分别赋值的技巧\n",
    "    print(k, v)"
   ]
  },
  {
   "cell_type": "code",
   "execution_count": 3,
   "metadata": {},
   "outputs": [
    {
     "name": "stdout",
     "output_type": "stream",
     "text": [
      "1\n",
      "2\n"
     ]
    }
   ],
   "source": [
    "x, y = 1, 2 # 这里的1, 2 相当于元组(1, 2)\n",
    "print(x)\n",
    "print(y)"
   ]
  },
  {
   "cell_type": "code",
   "execution_count": 4,
   "metadata": {},
   "outputs": [
    {
     "data": {
      "text/plain": [
       "(1, 2)"
      ]
     },
     "execution_count": 4,
     "metadata": {},
     "output_type": "execute_result"
    }
   ],
   "source": [
    "1, 2"
   ]
  },
  {
   "cell_type": "code",
   "execution_count": 5,
   "metadata": {},
   "outputs": [],
   "source": [
    "# P15中编写的字典方式生成码表\n",
    "import random\n",
    "\n",
    "alphabet_src = [chr(i) for i in range(33, 127)]\n",
    "alphabet_tar = alphabet_src.copy()\n",
    "random.shuffle(alphabet_tar)\n",
    "\n",
    "alphabet_s2t_dict = dict()\n",
    "alphabet_t2s_dict = dict()\n",
    "for i in range(len(alphabet_src)):\n",
    "    alphabet_s2t_dict[alphabet_src[i]] = alphabet_tar[i]\n",
    "    alphabet_t2s_dict[alphabet_tar[i]] = alphabet_src[i]"
   ]
  },
  {
   "cell_type": "code",
   "execution_count": 6,
   "metadata": {},
   "outputs": [],
   "source": [
    "import random\n",
    "\n",
    "class CryptIt:\n",
    "    \"\"\"用随机生成码表进行加密解密\n",
    "    \"\"\"\n",
    "\n",
    "    def __init__(self): # 这个括号里的名字叫self，所以下面所有地方都叫self，如果这里改为其他名字，则下面所有地方也必须改为其他名字\n",
    "        self.alphabet_src = [chr(i) for i in range(33, 127)]\n",
    "        self.alphabet_tar = self.alphabet_src.copy()\n",
    "        random.shuffle(self.alphabet_tar)\n",
    "        self.alphabet_s2t_dict = dict()\n",
    "        self.alphabet_t2s_dict = dict()\n",
    "        for i in range(len(self.alphabet_src)):\n",
    "            self.alphabet_s2t_dict[self.alphabet_src[i]] = self.alphabet_tar[i]\n",
    "            self.alphabet_t2s_dict[self.alphabet_tar[i]] = self.alphabet_src[i]\n",
    "    \n",
    "    def convert_char(self, single_char: str, operation: str) -> str:\n",
    "        \"\"\"转换单个字符\n",
    "        输入：\n",
    "        single_char：待转换字符\n",
    "        operation： 'encrypt'解密 'decrypt'加密\n",
    "        返回：转换后字符\n",
    "        \"\"\"\n",
    "        if ord(single_char) >= 33 and ord(single_char) <= 126:\n",
    "            if operation == 'encrypt':\n",
    "                result = self.alphabet_s2t_dict[single_char]\n",
    "            elif operation == 'decrypt':\n",
    "                result = self.alphabet_t2s_dict[single_char]\n",
    "        else:\n",
    "            result = single_char\n",
    "        return result\n",
    "\n",
    "    def encrypt_it(self, src_str: str) -> str:\n",
    "        \"\"\"字符串替换式加密\n",
    "        使用了convert_char函数\n",
    "        输入：\n",
    "        src_char：待加密字符串\n",
    "        返回：加密后字符串\n",
    "        \"\"\"\n",
    "        tar_str = ''\n",
    "        for single_char in src_str:\n",
    "            tar_str += self.convert_char(single_char, 'encrypt')\n",
    "        return tar_str\n",
    "\n",
    "    def decrypt_it(self, src_str: str) -> str:\n",
    "        \"\"\"字符串替换式解密\n",
    "        使用了convert_char函数\n",
    "        输入：\n",
    "        src_char：待解密字符串\n",
    "        返回：解密后字符串\n",
    "        \"\"\"\n",
    "        tar_str = ''\n",
    "        for single_char in src_str:\n",
    "            tar_str += self.convert_char(single_char, 'decrypt')\n",
    "        return tar_str\n",
    "    \n",
    "    def assert_crypt(self):\n",
    "        assert(self.decrypt_it(self.encrypt_it('abcdefghijklmnopqrstuvwxyzA!')) == 'abcdefghijklmnopqrstuvwxyzA!')\n",
    "        print('Assertion OK!')"
   ]
  },
  {
   "cell_type": "code",
   "execution_count": 7,
   "metadata": {},
   "outputs": [
    {
     "name": "stdout",
     "output_type": "stream",
     "text": [
      "Help on CryptIt in module __main__ object:\n",
      "\n",
      "class CryptIt(builtins.object)\n",
      " |  用随机生成码表进行加密解密\n",
      " |  \n",
      " |  Methods defined here:\n",
      " |  \n",
      " |  __init__(self)\n",
      " |      Initialize self.  See help(type(self)) for accurate signature.\n",
      " |  \n",
      " |  assert_crypt(self)\n",
      " |  \n",
      " |  convert_char(self, single_char: str, operation: str) -> str\n",
      " |      转换单个字符\n",
      " |      输入：\n",
      " |      single_char：待转换字符\n",
      " |      operation： 'encrypt'解密 'decrypt'加密\n",
      " |      返回：转换后字符\n",
      " |  \n",
      " |  decrypt_it(self, src_str: str) -> str\n",
      " |      字符串替换式解密\n",
      " |      使用了convert_char函数\n",
      " |      输入：\n",
      " |      src_char：待解密字符串\n",
      " |      返回：解密后字符串\n",
      " |  \n",
      " |  encrypt_it(self, src_str: str) -> str\n",
      " |      字符串替换式加密\n",
      " |      使用了convert_char函数\n",
      " |      输入：\n",
      " |      src_char：待加密字符串\n",
      " |      返回：加密后字符串\n",
      " |  \n",
      " |  ----------------------------------------------------------------------\n",
      " |  Data descriptors defined here:\n",
      " |  \n",
      " |  __dict__\n",
      " |      dictionary for instance variables (if defined)\n",
      " |  \n",
      " |  __weakref__\n",
      " |      list of weak references to the object (if defined)\n",
      "\n"
     ]
    }
   ],
   "source": [
    "# 接上面的类定义部分，运行后，自动得到帮助文件\n",
    "a = CryptIt()\n",
    "help(a)"
   ]
  },
  {
   "cell_type": "code",
   "execution_count": 8,
   "metadata": {},
   "outputs": [
    {
     "name": "stdout",
     "output_type": "stream",
     "text": [
      ">:mcBLd1G`Q|%^6A-!Tl#\"N?_UpM\n",
      ">:mcBLd1G`Q|%^6A-!Tl#\"N?_UpM\n",
      "Assertion OK!\n"
     ]
    }
   ],
   "source": [
    "my_crypt = CryptIt() # 如果这一句只运行一次，则多次调用函数使用的码表相同！\n",
    "print(my_crypt.encrypt_it('abcdefghijklmnopqrstuvwxyzA!'))\n",
    "print(my_crypt.encrypt_it('abcdefghijklmnopqrstuvwxyzA!')) # 使用的码表都是在第一次实例化的时候生成的码表\n",
    "my_crypt.decrypt_it(my_crypt.encrypt_it('abcdefghijklmnopqrstuvwxyzA!')) == 'abcdefghijklmnopqrstuvwxyzA!'\n",
    "my_crypt.assert_crypt()"
   ]
  },
  {
   "cell_type": "code",
   "execution_count": 9,
   "metadata": {},
   "outputs": [
    {
     "name": "stdout",
     "output_type": "stream",
     "text": [
      "g\"l&.EzB#{,WN@A=tH(/daJYKTGr\n",
      "g\"l&.EzB#{,WN@A=tH(/daJYKTGr\n"
     ]
    },
    {
     "data": {
      "text/plain": [
       "True"
      ]
     },
     "execution_count": 9,
     "metadata": {},
     "output_type": "execute_result"
    }
   ],
   "source": [
    "my_crypt_1 = CryptIt()\n",
    "print(my_crypt_1.encrypt_it('abcdefghijklmnopqrstuvwxyzA!'))\n",
    "print(my_crypt_1.encrypt_it('abcdefghijklmnopqrstuvwxyzA!'))\n",
    "my_crypt_1.decrypt_it(my_crypt_1.encrypt_it('abcdefghijklmnopqrstuvwxyzA!')) == 'abcdefghijklmnopqrstuvwxyzA!'"
   ]
  },
  {
   "cell_type": "code",
   "execution_count": 10,
   "metadata": {},
   "outputs": [
    {
     "name": "stdout",
     "output_type": "stream",
     "text": [
      "{'A': '·-', 'B': '-···', 'C': '-·-·', 'D': '-··', 'E': '·', 'F': '··-·', 'G': '--·', 'H': '····', 'I': '··', 'J': '·---', 'K': '-·-', 'L': '·-··', 'M': '--', 'N': '-·', 'O': '---', 'P': '·--·', 'Q': '--·-', 'R': '·-·', 'S': '···', 'T': '-', 'U': '··-', 'V': '···-', 'W': '·--', 'X': '-··-', 'Y': '-·--', 'Z': '--··'}\n"
     ]
    }
   ],
   "source": [
    "src_text = \"\"\"A\t·-\tB\t-···\tC\t-·-·\tD\t-··\tE\t·\tF\t··-·\tG\t--·\n",
    "H\t····\tI\t··\tJ\t·---\tK\t-·-\tL\t·-··\tM\t--\tN\t-·\n",
    "O\t---\tP\t·--·\tQ\t--·-\tR\t·-·\tS\t···\tT\t-\tU\t··-\n",
    "V\t···-\tW\t·--\tX\t-··-\tY\t-·--\tZ\t--··\t\t\t\t\n",
    "\"\"\"\n",
    "split_text = src_text.split()\n",
    "morse_table_dict = dict()\n",
    "for i in range(int(len(split_text)/2)):\n",
    "    morse_table_dict[split_text[i * 2]] = split_text[i * 2 + 1]\n",
    "print(morse_table_dict)"
   ]
  },
  {
   "cell_type": "code",
   "execution_count": 11,
   "metadata": {},
   "outputs": [
    {
     "name": "stdout",
     "output_type": "stream",
     "text": [
      "A\t·-\n",
      "B\t-···\n",
      "C\t-·-·\n",
      "D\t-··\n",
      "E\t·\n",
      "F\t··-·\n",
      "G\t--·\n",
      "H\t····\n",
      "I\t··\n",
      "J\t·---\n",
      "K\t-·-\n",
      "L\t·-··\n",
      "M\t--\n",
      "N\t-·\n",
      "O\t---\n",
      "P\t·--·\n",
      "Q\t--·-\n",
      "R\t·-·\n",
      "S\t···\n",
      "T\t-\n",
      "U\t··-\n",
      "V\t···-\n",
      "W\t·--\n",
      "X\t-··-\n",
      "Y\t-·--\n",
      "Z\t--··\n"
     ]
    }
   ],
   "source": [
    "src_text = \"\"\"A\t·-\tB\t-···\tC\t-·-·\tD\t-··\tE\t·\tF\t··-·\tG\t--·\n",
    "H\t····\tI\t··\tJ\t·---\tK\t-·-\tL\t·-··\tM\t--\tN\t-·\n",
    "O\t---\tP\t·--·\tQ\t--·-\tR\t·-·\tS\t···\tT\t-\tU\t··-\n",
    "V\t···-\tW\t·--\tX\t-··-\tY\t-·--\tZ\t--··\t\t\t\t\n",
    "\"\"\"\n",
    "split_text = src_text.split()\n",
    "temp_text = ''\n",
    "for i in range(int(len(split_text)/2)):\n",
    "    temp_text += '\\n' + split_text[i * 2] + '\\t' + split_text[i * 2 + 1] if i != 0 \\\n",
    "    else split_text[i * 2] + '\\t' + split_text[i * 2 + 1] #用来去除最后一个回车\n",
    "print(temp_text)"
   ]
  },
  {
   "cell_type": "code",
   "execution_count": 12,
   "metadata": {},
   "outputs": [
    {
     "name": "stdout",
     "output_type": "stream",
     "text": [
      "{'A': '·-', 'B': '-···', 'C': '-·-·', 'D': '-··', 'E': '·', 'F': '··-·', 'G': '--·', 'H': '····', 'I': '··', 'J': '·---', 'K': '-·-', 'L': '·-··', 'M': '--', 'N': '-·', 'O': '---', 'P': '·--·', 'Q': '--·-', 'R': '·-·', 'S': '···', 'T': '-', 'U': '··-', 'V': '···-', 'W': '·--', 'X': '-··-', 'Y': '-·--', 'Z': '--··'}\n"
     ]
    }
   ],
   "source": [
    "src_text = \"\"\"A\t·-\n",
    "B\t-···\n",
    "C\t-·-·\n",
    "D\t-··\n",
    "E\t·\n",
    "F\t··-·\n",
    "G\t--·\n",
    "H\t····\n",
    "I\t··\n",
    "J\t·---\n",
    "K\t-·-\n",
    "L\t·-··\n",
    "M\t--\n",
    "N\t-·\n",
    "O\t---\n",
    "P\t·--·\n",
    "Q\t--·-\n",
    "R\t·-·\n",
    "S\t···\n",
    "T\t-\n",
    "U\t··-\n",
    "V\t···-\n",
    "W\t·--\n",
    "X\t-··-\n",
    "Y\t-·--\n",
    "Z\t--··\"\"\" # 一定注意最后不能有回车\n",
    "morse_table_dict = dict()\n",
    "for line in src_text.split('\\n'):\n",
    "    k, v = line.split('\\t')\n",
    "    morse_table_dict[k] = v\n",
    "print(morse_table_dict)"
   ]
  }
 ],
 "metadata": {
  "kernelspec": {
   "display_name": "Python 3",
   "language": "python",
   "name": "python3"
  },
  "language_info": {
   "codemirror_mode": {
    "name": "ipython",
    "version": 3
   },
   "file_extension": ".py",
   "mimetype": "text/x-python",
   "name": "python",
   "nbconvert_exporter": "python",
   "pygments_lexer": "ipython3",
   "version": "3.7.6"
  }
 },
 "nbformat": 4,
 "nbformat_minor": 4
}
