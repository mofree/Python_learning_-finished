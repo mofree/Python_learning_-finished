{
 "cells": [
  {
   "cell_type": "markdown",
   "metadata": {},
   "source": [
    "*使用xpath单独提取所需元素*"
   ]
  },
  {
   "cell_type": "code",
   "execution_count": 1,
   "metadata": {},
   "outputs": [],
   "source": [
    "# 豆瓣读书k科普排行榜网址\n",
    "# https://book.douban.com/tag/%E7%A7%91%E6%99%AE\n",
    "\n",
    "# 其中一个书名的XPath\n",
    "#（复制 XPath）\n",
    "# //*[@id=\"subject_list\"]/ul/li[1]/div[2]/h2/a\n",
    "#（复制完整 XPath）\n",
    "# /html/body/div[3]/div[1]/div/div[1]/div/ul/li[1]/div[2]/h2/a"
   ]
  },
  {
   "cell_type": "code",
   "execution_count": 2,
   "metadata": {},
   "outputs": [
    {
     "name": "stdout",
     "output_type": "stream",
     "text": [
      "['人类简史', '时间的秩序', '上帝掷骰子吗', '地球上最孤单的动物', '从一到无穷大', '时间简史', 'how to如何不切实际地解决实际问题（平装）', '血疫', '人类简史', '枪炮、病菌与钢铁', '女生呵护指南', '最好的告别', '万物发明指南', '皮肤的秘密', '哲学家们都干了些什么', '人类灭绝之后', '薄世宁医学通识讲义', '病毒星球', '好的婚姻，要守护财产和爱', '薛兆丰经济学讲义']\n",
      "['9.1', '8.9', '9.2', '9.1', '9.1', '8.8', '8.7', '8.6', '9.1', '8.7', '8.2', '9.0', '8.9', '8.0', '8.6', '9.0', '8.8', '8.2', '8.9', '8.4']\n"
     ]
    }
   ],
   "source": [
    "# 参考教程：https://docs.python-guide.org/scenarios/scrape/\n",
    "from lxml import html\n",
    "import requests\n",
    "\n",
    "my_headers = {\n",
    "    'User-Agent': 'Mozilla/5.0 (Windows NT 10.0; Win64; x64) AppleWebKit/537.36 (KHTML, like Gecko) Chrome/83.0.4103.116 Safari/537.36 Edg/83.0.478.56',\n",
    "}\n",
    "\n",
    "my_page = requests.get('https://book.douban.com/tag/%E7%A7%91%E6%99%AE', headers=my_headers)\n",
    "my_tree = html.fromstring(my_page.content)\n",
    "\n",
    "book_name = my_tree.xpath(\"//div[@class='info']/h2/a\")\n",
    "book_point = my_tree.xpath(\"//div[@class='star clearfix']/span[@class='rating_nums']\")\n",
    "\n",
    "# for i in range(len(book_name)):\n",
    "#     book_name[i] = book_name[i].text.strip()\n",
    "# for i in range(len(book_point)):\n",
    "#     book_point[i] = book_point[i].text.strip()\n",
    "\n",
    "book_name = list(map(lambda ele: ele.text.strip(), book_name)) #map出来的结果是可迭代对象，转为list，再进行赋值\n",
    "book_point = list(map(lambda ele: ele.text.strip(), book_point))\n",
    "    \n",
    "print(book_name) # 由于有的书名有副标题，这里没有特殊处理，需要处理可建类框架，用类的继承进行单独处理\n",
    "print(book_point)"
   ]
  },
  {
   "cell_type": "code",
   "execution_count": 3,
   "metadata": {},
   "outputs": [
    {
     "name": "stdout",
     "output_type": "stream",
     "text": [
      "Help on method xpath in module lxml.etree:\n",
      "\n",
      "xpath(_path, *, namespaces, extensions, smart_strings, **_variables) method of lxml.html.HtmlElement instance\n",
      "    xpath(self, _path, namespaces=None, extensions=None, smart_strings=True, **_variables)\n",
      "    \n",
      "    Evaluate an xpath expression using the element as context node.\n",
      "\n",
      "Help on class map in module builtins:\n",
      "\n",
      "class map(object)\n",
      " |  map(func, *iterables) --> map object\n",
      " |  \n",
      " |  Make an iterator that computes the function using arguments from\n",
      " |  each of the iterables.  Stops when the shortest iterable is exhausted.\n",
      " |  \n",
      " |  Methods defined here:\n",
      " |  \n",
      " |  __getattribute__(self, name, /)\n",
      " |      Return getattr(self, name).\n",
      " |  \n",
      " |  __iter__(self, /)\n",
      " |      Implement iter(self).\n",
      " |  \n",
      " |  __next__(self, /)\n",
      " |      Implement next(self).\n",
      " |  \n",
      " |  __reduce__(...)\n",
      " |      Return state information for pickling.\n",
      " |  \n",
      " |  ----------------------------------------------------------------------\n",
      " |  Static methods defined here:\n",
      " |  \n",
      " |  __new__(*args, **kwargs) from builtins.type\n",
      " |      Create and return a new object.  See help(type) for accurate signature.\n",
      "\n"
     ]
    }
   ],
   "source": [
    "help(my_tree.xpath)\n",
    "help(map)"
   ]
  },
  {
   "cell_type": "markdown",
   "metadata": {},
   "source": [
    "*通过xpath分块提取同一元素相关信息*"
   ]
  },
  {
   "cell_type": "code",
   "execution_count": 4,
   "metadata": {
    "scrolled": true
   },
   "outputs": [
    {
     "name": "stdout",
     "output_type": "stream",
     "text": [
      "[('神经网络与深度学习', '本书主要介绍神经网络与深度学习中的基础知识、主要模型（卷积神经网络、递归神经网络等）以及在计算机视觉、自然语言处理等领域的应用。'), ('Python深度学习', '本书由Keras之父、现任Google人工智能研究员的弗朗索瓦•肖莱（François Chollet）执笔，详尽介绍了用Python和Keras进行深度学...'), ('Python神经网络编程', '神经网络是一种模拟人脑的神经网络，以期能够实现类人工智能的机器学习\\n技术。\\n本书揭示神经网络背后的概念，并介绍如何通过Python实现神经网络。全书\\n分为3...'), ('深度学习入门', '本书是深度学习真正意义上的入门书，深入浅出地剖析了深度学习的原理和相关技术。书中使用Python3，尽量不依赖外部库或工具，从基本的数学知识出发，带领读者从...'), ('深度学习的数学', '《深度学习的数学》基于丰富的图示和具体示例，通俗易懂地介绍了深度学习相关的数学知识。第1章介绍神经网络的概况；第2章介绍理解神经网络所需的数学基础知识；第3...'), ('意识的宇宙', '本书对意识理论进行全面研究，建立在近代神经科学基础上、致力于对意识的产生、及人们对意识的认识如何帮助其“把严格的科学描述与人类知识和经验的宽广领域联系起来”...'), ('数字思维', '计算机、细胞和大脑有什么共同之处？计算机是人类设计的电子设备，细胞是经自然进化和选择产生的生物实体，大脑是人类思维的创造者和“容器”。但在某种程度上，它们都...'), ('神经网络设计（原书第2版）', '本书是一本易学易懂的神经网络教材，主要讨论网络结构、学习规则、训练技巧和工程应用，紧紧围绕“设计”这一视角组织材料和展开讲解，强调基本原理和训练方法，概念清...'), ('连接组：造就独一无二的你', '★《华尔街日报》2012年度十佳非虚构图书\\n★亚马逊网站2012年编辑选择之百佳图书\\n★《出版人周刊》2012年春季十佳科学类图书\\n【内容简介】\\n基因组让你...'), ('图解深度学习与神经网络：从张量到TensorFlow实现', '《图解深度学习与神经网络：从张量到TensorFlow实现》是以TensorFlow 为工具介绍神经网络和深度学习的入门书，内容循序渐进，以简单示例和图例的...'), ('深入浅出图神经网络：GNN原理解析', '这是一本从原理、算法、实现、应用4个维度详细讲解图神经网络的著作，在图神经网络领域具有重大的意义。\\n本书作者是图神经网络领域的资深技术专家，作者所在的公司极...'), ('Neural Networks and Deep Learning', 'http://neuralnetworksanddeeplearning.com/'), ('神经网络在应用科学和工程中的应用', '《神经网络在应用科学与工程中的应用:从基本原理到复杂的模式识别》为读者提供了神经网络方面简单但却系统的介绍。\\n《神经网络在应用科学和工程中的应用从基本原理到...'), ('Make Your Own Neural Network', None), ('Neural Networks and Learning Machines', 'For graduate-level neural network courses offered in the departments of Comput...'), ('神经网络原理(原书第2版)', None), ('神经网络控制', '神经网络控制已发展成为“智能控制”的一个新的分支，属先进控制技术，为解决复杂的非线性、不确定、不确知系统的控制问题，开辟了一条新的途径。《神经网络控制(第3...'), ('Neural Networks and Statistical Learning', None), ('精通Visual C++指纹模式识别系统算法及实现', '《精通VisualC++指纹模式识别系统算法及现实》共5篇。第一篇讲解指纹模式识别系统入门知识，包括指纹模式识别系统演示系统和指纹学基础，引导读者快速入门；...'), ('神经动力学模型方法和应用', '神经网络动力学是神经网络与动力学系统交叉结合的学科。本书着重阐述神经网络动力学模型的建立和各类模型研究的问题与方法。书中还介绍了神经动力学的生物背景与相关的...')]\n"
     ]
    }
   ],
   "source": [
    "from lxml import html\n",
    "import requests\n",
    "\n",
    "my_headers = {\n",
    "    'User-Agent': 'Mozilla/5.0 (Windows NT 10.0; Win64; x64) AppleWebKit/537.36 (KHTML, like Gecko) Chrome/83.0.4103.116 Safari/537.36 Edg/83.0.478.56',\n",
    "}\n",
    "\n",
    "my_page = requests.get('https://book.douban.com/tag/%E7%A5%9E%E7%BB%8F%E7%BD%91%E7%BB%9C', headers=my_headers)\n",
    "my_tree = html.fromstring(my_page.content)\n",
    "\n",
    "book_block = my_tree.xpath(\"//li[@class='subject-item']\")\n",
    "\n",
    "book_info = list()\n",
    "for ele in book_block:\n",
    "    name_obj = ele.xpath(\"div[@class='info']/h2/a\")\n",
    "    comment_obj = ele.xpath(\"div[@class='info']/p\")\n",
    "    \n",
    "    name = name_obj[0].text.strip() if len(name_obj) != 0 else None\n",
    "    comment = comment_obj[0].text.strip() if len(comment_obj) != 0 else None\n",
    "    # 老师思路：\n",
    "    # comment = comment_obj[0].text.strip() if comment_obj else 'N/A' # 注意：这里 if comment_obj 不可以写成 comment_obj == None\n",
    "        \n",
    "    ele_tuple = (name, comment)\n",
    "    book_info.append(ele_tuple)\n",
    "    \n",
    "print(book_info)"
   ]
  }
 ],
 "metadata": {
  "kernelspec": {
   "display_name": "Python 3",
   "language": "python",
   "name": "python3"
  },
  "language_info": {
   "codemirror_mode": {
    "name": "ipython",
    "version": 3
   },
   "file_extension": ".py",
   "mimetype": "text/x-python",
   "name": "python",
   "nbconvert_exporter": "python",
   "pygments_lexer": "ipython3",
   "version": "3.7.6"
  }
 },
 "nbformat": 4,
 "nbformat_minor": 4
}
